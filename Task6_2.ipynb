{
  "nbformat": 4,
  "nbformat_minor": 0,
  "metadata": {
    "colab": {
      "provenance": []
    },
    "kernelspec": {
      "name": "python3",
      "display_name": "Python 3"
    },
    "language_info": {
      "name": "python"
    }
  },
  "cells": [
    {
      "cell_type": "markdown",
      "source": [
        "# Sentiment Classifier using Tfidf"
      ],
      "metadata": {
        "id": "RgNzkz4j4k-T"
      }
    },
    {
      "cell_type": "code",
      "source": [
        "!wget http://ai.stanford.edu/~amaas/data/sentiment/aclImdb_v1.tar.gz"
      ],
      "metadata": {
        "colab": {
          "base_uri": "https://localhost:8080/"
        },
        "id": "EJC85CAw4nLQ",
        "outputId": "cabc059e-8b28-4963-a2d1-be6c02c480f2"
      },
      "execution_count": 14,
      "outputs": [
        {
          "output_type": "stream",
          "name": "stdout",
          "text": [
            "--2023-03-24 13:50:32--  http://ai.stanford.edu/~amaas/data/sentiment/aclImdb_v1.tar.gz\n",
            "Resolving ai.stanford.edu (ai.stanford.edu)... 171.64.68.10\n",
            "Connecting to ai.stanford.edu (ai.stanford.edu)|171.64.68.10|:80... connected.\n",
            "HTTP request sent, awaiting response... 200 OK\n",
            "Length: 84125825 (80M) [application/x-gzip]\n",
            "Saving to: ‘aclImdb_v1.tar.gz’\n",
            "\n",
            "aclImdb_v1.tar.gz   100%[===================>]  80.23M  54.4MB/s    in 1.5s    \n",
            "\n",
            "2023-03-24 13:50:34 (54.4 MB/s) - ‘aclImdb_v1.tar.gz’ saved [84125825/84125825]\n",
            "\n"
          ]
        }
      ]
    },
    {
      "cell_type": "code",
      "source": [
        "import shutil\n",
        "shutil.unpack_archive(\"aclImdb_v1.tar.gz\", \"/content/\")"
      ],
      "metadata": {
        "id": "lP5Gz9GN4ktS"
      },
      "execution_count": 15,
      "outputs": []
    },
    {
      "cell_type": "code",
      "source": [
        "import nltk\n",
        "nltk.download('wordnet')\n",
        "nltk.download('stopwords')"
      ],
      "metadata": {
        "colab": {
          "base_uri": "https://localhost:8080/"
        },
        "id": "o9N6w7vI4kp2",
        "outputId": "963e6000-a9fc-4b22-bef8-023c698d19c4"
      },
      "execution_count": 17,
      "outputs": [
        {
          "output_type": "stream",
          "name": "stderr",
          "text": [
            "[nltk_data] Downloading package wordnet to /root/nltk_data...\n",
            "[nltk_data] Downloading package stopwords to /root/nltk_data...\n",
            "[nltk_data]   Unzipping corpora/stopwords.zip.\n"
          ]
        },
        {
          "output_type": "execute_result",
          "data": {
            "text/plain": [
              "True"
            ]
          },
          "metadata": {},
          "execution_count": 17
        }
      ]
    },
    {
      "cell_type": "code",
      "source": [
        "import os\n",
        "import pandas as pd\n",
        "import numpy as np\n",
        "from nltk.corpus import stopwords\n",
        "from sklearn.feature_extraction.text import TfidfVectorizer\n",
        "from sklearn.linear_model import LogisticRegression"
      ],
      "metadata": {
        "id": "KFMreSVK4knH"
      },
      "execution_count": 18,
      "outputs": []
    },
    {
      "cell_type": "markdown",
      "source": [
        "**DATAFRAMES FROM DATASET**"
      ],
      "metadata": {
        "id": "TDPACx-1859g"
      }
    },
    {
      "cell_type": "code",
      "source": [
        "path = \"/content/aclImdb/train/pos/\"\n",
        "temp = []\n",
        "for file in os.listdir(path):\n",
        "    with open(os.path.join(path + file), \"r\") as f:\n",
        "        temp.append(f.readlines()[0])\n",
        "pos = pd.DataFrame({\"reviews\": temp, \n",
        "                    \"labels\": list(np.ones(len(temp), dtype=int))})\n",
        "\n"
      ],
      "metadata": {
        "id": "It0scOTQ890d"
      },
      "execution_count": 49,
      "outputs": []
    },
    {
      "cell_type": "code",
      "source": [
        "pos.head()"
      ],
      "metadata": {
        "colab": {
          "base_uri": "https://localhost:8080/",
          "height": 206
        },
        "id": "t6raTsZI9Awd",
        "outputId": "bcc8c853-71e7-4c50-bef4-5eee714c58d9"
      },
      "execution_count": 39,
      "outputs": [
        {
          "output_type": "execute_result",
          "data": {
            "text/plain": [
              "                                             reviews  labels\n",
              "0  If I had just seen the pilot of this show I wo...       1\n",
              "1  I loved it! Fred MacMurray is wonderful as Ski...       1\n",
              "2  This series it's \"something different\". Someti...       1\n",
              "3  There's some very clever humour in this film, ...       1\n",
              "4  When the Grinch came out I was excited though ...       1"
            ],
            "text/html": [
              "\n",
              "  <div id=\"df-a4e9c645-4ad3-463d-a5ea-54c5defa1e91\">\n",
              "    <div class=\"colab-df-container\">\n",
              "      <div>\n",
              "<style scoped>\n",
              "    .dataframe tbody tr th:only-of-type {\n",
              "        vertical-align: middle;\n",
              "    }\n",
              "\n",
              "    .dataframe tbody tr th {\n",
              "        vertical-align: top;\n",
              "    }\n",
              "\n",
              "    .dataframe thead th {\n",
              "        text-align: right;\n",
              "    }\n",
              "</style>\n",
              "<table border=\"1\" class=\"dataframe\">\n",
              "  <thead>\n",
              "    <tr style=\"text-align: right;\">\n",
              "      <th></th>\n",
              "      <th>reviews</th>\n",
              "      <th>labels</th>\n",
              "    </tr>\n",
              "  </thead>\n",
              "  <tbody>\n",
              "    <tr>\n",
              "      <th>0</th>\n",
              "      <td>If I had just seen the pilot of this show I wo...</td>\n",
              "      <td>1</td>\n",
              "    </tr>\n",
              "    <tr>\n",
              "      <th>1</th>\n",
              "      <td>I loved it! Fred MacMurray is wonderful as Ski...</td>\n",
              "      <td>1</td>\n",
              "    </tr>\n",
              "    <tr>\n",
              "      <th>2</th>\n",
              "      <td>This series it's \"something different\". Someti...</td>\n",
              "      <td>1</td>\n",
              "    </tr>\n",
              "    <tr>\n",
              "      <th>3</th>\n",
              "      <td>There's some very clever humour in this film, ...</td>\n",
              "      <td>1</td>\n",
              "    </tr>\n",
              "    <tr>\n",
              "      <th>4</th>\n",
              "      <td>When the Grinch came out I was excited though ...</td>\n",
              "      <td>1</td>\n",
              "    </tr>\n",
              "  </tbody>\n",
              "</table>\n",
              "</div>\n",
              "      <button class=\"colab-df-convert\" onclick=\"convertToInteractive('df-a4e9c645-4ad3-463d-a5ea-54c5defa1e91')\"\n",
              "              title=\"Convert this dataframe to an interactive table.\"\n",
              "              style=\"display:none;\">\n",
              "        \n",
              "  <svg xmlns=\"http://www.w3.org/2000/svg\" height=\"24px\"viewBox=\"0 0 24 24\"\n",
              "       width=\"24px\">\n",
              "    <path d=\"M0 0h24v24H0V0z\" fill=\"none\"/>\n",
              "    <path d=\"M18.56 5.44l.94 2.06.94-2.06 2.06-.94-2.06-.94-.94-2.06-.94 2.06-2.06.94zm-11 1L8.5 8.5l.94-2.06 2.06-.94-2.06-.94L8.5 2.5l-.94 2.06-2.06.94zm10 10l.94 2.06.94-2.06 2.06-.94-2.06-.94-.94-2.06-.94 2.06-2.06.94z\"/><path d=\"M17.41 7.96l-1.37-1.37c-.4-.4-.92-.59-1.43-.59-.52 0-1.04.2-1.43.59L10.3 9.45l-7.72 7.72c-.78.78-.78 2.05 0 2.83L4 21.41c.39.39.9.59 1.41.59.51 0 1.02-.2 1.41-.59l7.78-7.78 2.81-2.81c.8-.78.8-2.07 0-2.86zM5.41 20L4 18.59l7.72-7.72 1.47 1.35L5.41 20z\"/>\n",
              "  </svg>\n",
              "      </button>\n",
              "      \n",
              "  <style>\n",
              "    .colab-df-container {\n",
              "      display:flex;\n",
              "      flex-wrap:wrap;\n",
              "      gap: 12px;\n",
              "    }\n",
              "\n",
              "    .colab-df-convert {\n",
              "      background-color: #E8F0FE;\n",
              "      border: none;\n",
              "      border-radius: 50%;\n",
              "      cursor: pointer;\n",
              "      display: none;\n",
              "      fill: #1967D2;\n",
              "      height: 32px;\n",
              "      padding: 0 0 0 0;\n",
              "      width: 32px;\n",
              "    }\n",
              "\n",
              "    .colab-df-convert:hover {\n",
              "      background-color: #E2EBFA;\n",
              "      box-shadow: 0px 1px 2px rgba(60, 64, 67, 0.3), 0px 1px 3px 1px rgba(60, 64, 67, 0.15);\n",
              "      fill: #174EA6;\n",
              "    }\n",
              "\n",
              "    [theme=dark] .colab-df-convert {\n",
              "      background-color: #3B4455;\n",
              "      fill: #D2E3FC;\n",
              "    }\n",
              "\n",
              "    [theme=dark] .colab-df-convert:hover {\n",
              "      background-color: #434B5C;\n",
              "      box-shadow: 0px 1px 3px 1px rgba(0, 0, 0, 0.15);\n",
              "      filter: drop-shadow(0px 1px 2px rgba(0, 0, 0, 0.3));\n",
              "      fill: #FFFFFF;\n",
              "    }\n",
              "  </style>\n",
              "\n",
              "      <script>\n",
              "        const buttonEl =\n",
              "          document.querySelector('#df-a4e9c645-4ad3-463d-a5ea-54c5defa1e91 button.colab-df-convert');\n",
              "        buttonEl.style.display =\n",
              "          google.colab.kernel.accessAllowed ? 'block' : 'none';\n",
              "\n",
              "        async function convertToInteractive(key) {\n",
              "          const element = document.querySelector('#df-a4e9c645-4ad3-463d-a5ea-54c5defa1e91');\n",
              "          const dataTable =\n",
              "            await google.colab.kernel.invokeFunction('convertToInteractive',\n",
              "                                                     [key], {});\n",
              "          if (!dataTable) return;\n",
              "\n",
              "          const docLinkHtml = 'Like what you see? Visit the ' +\n",
              "            '<a target=\"_blank\" href=https://colab.research.google.com/notebooks/data_table.ipynb>data table notebook</a>'\n",
              "            + ' to learn more about interactive tables.';\n",
              "          element.innerHTML = '';\n",
              "          dataTable['output_type'] = 'display_data';\n",
              "          await google.colab.output.renderOutput(dataTable, element);\n",
              "          const docLink = document.createElement('div');\n",
              "          docLink.innerHTML = docLinkHtml;\n",
              "          element.appendChild(docLink);\n",
              "        }\n",
              "      </script>\n",
              "    </div>\n",
              "  </div>\n",
              "  "
            ]
          },
          "metadata": {},
          "execution_count": 39
        }
      ]
    },
    {
      "cell_type": "code",
      "source": [
        "train_test_split"
      ],
      "metadata": {
        "colab": {
          "base_uri": "https://localhost:8080/"
        },
        "id": "MHKrRBdi9Fgl",
        "outputId": "8c072501-0a85-45b6-c19c-2bd6b4fc4c84"
      },
      "execution_count": 54,
      "outputs": [
        {
          "output_type": "execute_result",
          "data": {
            "text/plain": [
              "<function sklearn.model_selection._split.train_test_split(*arrays, test_size=None, train_size=None, random_state=None, shuffle=True, stratify=None)>"
            ]
          },
          "metadata": {},
          "execution_count": 54
        }
      ]
    },
    {
      "cell_type": "markdown",
      "source": [
        "**TOKENIZATION**"
      ],
      "metadata": {
        "id": "dHKNmgNK4_G9"
      }
    },
    {
      "cell_type": "code",
      "source": [
        "def tokenize_data(dataset):\n",
        "    tokenizer = nltk.tokenize.TreebankWordTokenizer()\n",
        "    for i in range(dataset.shape[0]):\n",
        "       dataset[\"reviews\"][i] = tokenizer.tokenize(dataset[\"reviews\"][i])\n",
        "    return dataset"
      ],
      "metadata": {
        "id": "PvV5OHrw4kkn"
      },
      "execution_count": 25,
      "outputs": []
    },
    {
      "cell_type": "markdown",
      "source": [
        "**STOP WORDS REMOVAL**"
      ],
      "metadata": {
        "id": "UwBLPJJc61Ls"
      }
    },
    {
      "cell_type": "code",
      "source": [
        "def remove_stop_words(dataset):\n",
        "    stop_words = set(stopwords.words('english'))\n",
        "    for i in range(dataset.shape[0]):\n",
        "        dataset[\"reviews\"][i] = ([token.lower() for token in dataset[\"reviews\"][i] if token not in stop_words])\n",
        "    \n",
        "    return dataset"
      ],
      "metadata": {
        "id": "1wITW6At4kh7"
      },
      "execution_count": 26,
      "outputs": []
    },
    {
      "cell_type": "markdown",
      "source": [
        "**NORMALIZATION**"
      ],
      "metadata": {
        "id": "1IyJO22q68yG"
      }
    },
    {
      "cell_type": "code",
      "source": [
        "def normalize(dataset):\n",
        "    lemmatizer = nltk.stem.WordNetLemmatizer()\n",
        "    for i in range(dataset.shape[0]):\n",
        "        dataset.reviews[i] = \" \".join([lemmatizer.lemmatize(token) for token in dataset.reviews[i]]).strip()\n",
        "    return dataset"
      ],
      "metadata": {
        "id": "B7bMr4MP4ke3"
      },
      "execution_count": 27,
      "outputs": []
    },
    {
      "cell_type": "markdown",
      "source": [
        "**PUNCTUATION AND SYMBOLS REMOVAL**"
      ],
      "metadata": {
        "id": "hxA1PKjw7FDN"
      }
    },
    {
      "cell_type": "code",
      "source": [
        "def remove_garbage(dataset):\n",
        "    garbage = \"~`!@#$%^&*()_-+={[}]|\\:;'<,>.?/\"\n",
        "    for i in range(dataset.shape[0]):\n",
        "        dataset.reviews[i]=\"\".join([char for char in dataset.reviews[i] if char not in garbage])\n",
        "    return dataset"
      ],
      "metadata": {
        "id": "Wxv4br5R4kb1"
      },
      "execution_count": 33,
      "outputs": []
    },
    {
      "cell_type": "markdown",
      "source": [
        "**FEATURE EXTRACTION**"
      ],
      "metadata": {
        "id": "RdQT2tj98ISB"
      }
    },
    {
      "cell_type": "code",
      "source": [
        "def fit_corpus(train_data, test_data):\n",
        "    corpus = pd.DataFrame({\"reviews\": train_data[\"reviews\"]})\n",
        "    corpus.reviews.append(test_data[\"reviews\"], ignore_index=True)\n",
        "    tfidf = TfidfVectorizer(min_df=2, max_df=0.5, ngram_range=(1,2))\n",
        "    tfidf.fit(corpus[\"reviews\"])\n",
        "    return tfidf"
      ],
      "metadata": {
        "id": "hI1XckGw4kZc"
      },
      "execution_count": 36,
      "outputs": []
    },
    {
      "cell_type": "code",
      "source": [
        "def transform_data(tfidf, dataset):\n",
        "    features = tfidf.transform(dataset[\"reviews\"])\n",
        "    return pd.DataFrame(features.todense(), columns = tfidf.get_feature_names())"
      ],
      "metadata": {
        "id": "Kcbkfz3a4kWC"
      },
      "execution_count": 37,
      "outputs": []
    },
    {
      "cell_type": "code",
      "source": [
        "tfidf = fit_corpus(train_data, test_data)  \n",
        "train_features = transform_data(tfidf, train_data)  #transforming \n",
        "test_features = transform_data(tfidf, test_data)    #Train and Test\n",
        "train_labels = train_data[\"labels\"]  #Taking lables in separate\n",
        "test_labels = test_data[\"labels\"]    #variables"
      ],
      "metadata": {
        "colab": {
          "base_uri": "https://localhost:8080/",
          "height": 235
        },
        "id": "3ymNqyZn4kTA",
        "outputId": "491a1988-22d6-426b-a163-b7b38d1ad933"
      },
      "execution_count": 57,
      "outputs": [
        {
          "output_type": "error",
          "ename": "NameError",
          "evalue": "ignored",
          "traceback": [
            "\u001b[0;31m---------------------------------------------------------------------------\u001b[0m",
            "\u001b[0;31mNameError\u001b[0m                                 Traceback (most recent call last)",
            "\u001b[0;32m<ipython-input-57-a9dbedd38c52>\u001b[0m in \u001b[0;36m<module>\u001b[0;34m\u001b[0m\n\u001b[0;32m----> 1\u001b[0;31m \u001b[0mtfidf\u001b[0m \u001b[0;34m=\u001b[0m \u001b[0mfit_corpus\u001b[0m\u001b[0;34m(\u001b[0m\u001b[0mtrain_data\u001b[0m\u001b[0;34m,\u001b[0m \u001b[0mtest_data\u001b[0m\u001b[0;34m)\u001b[0m\u001b[0;34m\u001b[0m\u001b[0;34m\u001b[0m\u001b[0m\n\u001b[0m\u001b[1;32m      2\u001b[0m \u001b[0mtrain_features\u001b[0m \u001b[0;34m=\u001b[0m \u001b[0mtransform_data\u001b[0m\u001b[0;34m(\u001b[0m\u001b[0mtfidf\u001b[0m\u001b[0;34m,\u001b[0m \u001b[0mtrain_data\u001b[0m\u001b[0;34m)\u001b[0m  \u001b[0;31m#transforming\u001b[0m\u001b[0;34m\u001b[0m\u001b[0;34m\u001b[0m\u001b[0m\n\u001b[1;32m      3\u001b[0m \u001b[0mtest_features\u001b[0m \u001b[0;34m=\u001b[0m \u001b[0mtransform_data\u001b[0m\u001b[0;34m(\u001b[0m\u001b[0mtfidf\u001b[0m\u001b[0;34m,\u001b[0m \u001b[0mtest_data\u001b[0m\u001b[0;34m)\u001b[0m    \u001b[0;31m#Train and Test\u001b[0m\u001b[0;34m\u001b[0m\u001b[0;34m\u001b[0m\u001b[0m\n\u001b[1;32m      4\u001b[0m \u001b[0mtrain_labels\u001b[0m \u001b[0;34m=\u001b[0m \u001b[0mtrain_data\u001b[0m\u001b[0;34m[\u001b[0m\u001b[0;34m\"labels\"\u001b[0m\u001b[0;34m]\u001b[0m  \u001b[0;31m#Taking lables in separate\u001b[0m\u001b[0;34m\u001b[0m\u001b[0;34m\u001b[0m\u001b[0m\n\u001b[1;32m      5\u001b[0m \u001b[0mtest_labels\u001b[0m \u001b[0;34m=\u001b[0m \u001b[0mtest_data\u001b[0m\u001b[0;34m[\u001b[0m\u001b[0;34m\"labels\"\u001b[0m\u001b[0;34m]\u001b[0m    \u001b[0;31m#variables\u001b[0m\u001b[0;34m\u001b[0m\u001b[0;34m\u001b[0m\u001b[0m\n",
            "\u001b[0;31mNameError\u001b[0m: name 'train_data' is not defined"
          ]
        }
      ]
    },
    {
      "cell_type": "code",
      "source": [
        "clf = LogisticRegression(random_state=0, solver='lbfgs')\n",
        "clf.fit(train_features, train_labels)\n",
        "clf.predict(test_features.iloc[[5]])"
      ],
      "metadata": {
        "id": "s_V0UJMg4kQQ"
      },
      "execution_count": 58,
      "outputs": []
    },
    {
      "cell_type": "code",
      "source": [
        "import pandas as pd\n",
        "from sklearn.feature_extraction.text import TfidfVectorizer\n",
        "from sklearn.model_selection import train_test_split\n",
        "from sklearn.linear_model import LogisticRegression\n",
        "\n",
        "# Load data\n",
        "data = pd.read_csv('sentiment_data.csv')\n",
        "\n",
        "# Split data into train and test sets\n",
        "X_train, X_test, y_train, y_test = train_test_split(data['text'], data['label'], test_size=0.2)\n",
        "\n",
        "# Create TF-IDF vectorizer\n",
        "tfidf = TfidfVectorizer()\n",
        "\n",
        "# Fit vectorizer to training data and transform it\n",
        "X_train_tfidf = tfidf.fit_transform(X_train)\n",
        "\n",
        "# Train logistic regression classifier\n",
        "clf = LogisticRegression()\n",
        "clf.fit(X_train_tfidf, y_train)\n",
        "\n",
        "# Transform test data using the same vectorizer\n",
        "X_test_tfidf = tfidf.transform(X_test)\n",
        "\n",
        "# Evaluate model on test data\n",
        "accuracy = clf.score(X_test_tfidf, y_test)\n",
        "print(\"Accuracy:\", accuracy)\n"
      ],
      "metadata": {
        "colab": {
          "base_uri": "https://localhost:8080/",
          "height": 571
        },
        "id": "jKsY_Uh34jqt",
        "outputId": "cd0410d9-b6c2-4a2e-8f94-6f5518ecbaaf"
      },
      "execution_count": 62,
      "outputs": [
        {
          "output_type": "error",
          "ename": "KeyError",
          "evalue": "ignored",
          "traceback": [
            "\u001b[0;31m---------------------------------------------------------------------------\u001b[0m",
            "\u001b[0;31mKeyError\u001b[0m                                  Traceback (most recent call last)",
            "\u001b[0;32m/usr/local/lib/python3.9/dist-packages/pandas/core/indexes/base.py\u001b[0m in \u001b[0;36mget_loc\u001b[0;34m(self, key, method, tolerance)\u001b[0m\n\u001b[1;32m   3628\u001b[0m             \u001b[0;32mtry\u001b[0m\u001b[0;34m:\u001b[0m\u001b[0;34m\u001b[0m\u001b[0;34m\u001b[0m\u001b[0m\n\u001b[0;32m-> 3629\u001b[0;31m                 \u001b[0;32mreturn\u001b[0m \u001b[0mself\u001b[0m\u001b[0;34m.\u001b[0m\u001b[0m_engine\u001b[0m\u001b[0;34m.\u001b[0m\u001b[0mget_loc\u001b[0m\u001b[0;34m(\u001b[0m\u001b[0mcasted_key\u001b[0m\u001b[0;34m)\u001b[0m\u001b[0;34m\u001b[0m\u001b[0;34m\u001b[0m\u001b[0m\n\u001b[0m\u001b[1;32m   3630\u001b[0m             \u001b[0;32mexcept\u001b[0m \u001b[0mKeyError\u001b[0m \u001b[0;32mas\u001b[0m \u001b[0merr\u001b[0m\u001b[0;34m:\u001b[0m\u001b[0;34m\u001b[0m\u001b[0;34m\u001b[0m\u001b[0m\n",
            "\u001b[0;32m/usr/local/lib/python3.9/dist-packages/pandas/_libs/index.pyx\u001b[0m in \u001b[0;36mpandas._libs.index.IndexEngine.get_loc\u001b[0;34m()\u001b[0m\n",
            "\u001b[0;32m/usr/local/lib/python3.9/dist-packages/pandas/_libs/index.pyx\u001b[0m in \u001b[0;36mpandas._libs.index.IndexEngine.get_loc\u001b[0;34m()\u001b[0m\n",
            "\u001b[0;32mpandas/_libs/hashtable_class_helper.pxi\u001b[0m in \u001b[0;36mpandas._libs.hashtable.PyObjectHashTable.get_item\u001b[0;34m()\u001b[0m\n",
            "\u001b[0;32mpandas/_libs/hashtable_class_helper.pxi\u001b[0m in \u001b[0;36mpandas._libs.hashtable.PyObjectHashTable.get_item\u001b[0;34m()\u001b[0m\n",
            "\u001b[0;31mKeyError\u001b[0m: 'text'",
            "\nThe above exception was the direct cause of the following exception:\n",
            "\u001b[0;31mKeyError\u001b[0m                                  Traceback (most recent call last)",
            "\u001b[0;32m<ipython-input-62-31c17ca1c06c>\u001b[0m in \u001b[0;36m<module>\u001b[0;34m\u001b[0m\n\u001b[1;32m      8\u001b[0m \u001b[0;34m\u001b[0m\u001b[0m\n\u001b[1;32m      9\u001b[0m \u001b[0;31m# Split data into train and test sets\u001b[0m\u001b[0;34m\u001b[0m\u001b[0;34m\u001b[0m\u001b[0m\n\u001b[0;32m---> 10\u001b[0;31m \u001b[0mX_train\u001b[0m\u001b[0;34m,\u001b[0m \u001b[0mX_test\u001b[0m\u001b[0;34m,\u001b[0m \u001b[0my_train\u001b[0m\u001b[0;34m,\u001b[0m \u001b[0my_test\u001b[0m \u001b[0;34m=\u001b[0m \u001b[0mtrain_test_split\u001b[0m\u001b[0;34m(\u001b[0m\u001b[0mdata\u001b[0m\u001b[0;34m[\u001b[0m\u001b[0;34m'text'\u001b[0m\u001b[0;34m]\u001b[0m\u001b[0;34m,\u001b[0m \u001b[0mdata\u001b[0m\u001b[0;34m[\u001b[0m\u001b[0;34m'label'\u001b[0m\u001b[0;34m]\u001b[0m\u001b[0;34m,\u001b[0m \u001b[0mtest_size\u001b[0m\u001b[0;34m=\u001b[0m\u001b[0;36m0.2\u001b[0m\u001b[0;34m)\u001b[0m\u001b[0;34m\u001b[0m\u001b[0;34m\u001b[0m\u001b[0m\n\u001b[0m\u001b[1;32m     11\u001b[0m \u001b[0;34m\u001b[0m\u001b[0m\n\u001b[1;32m     12\u001b[0m \u001b[0;31m# Create TF-IDF vectorizer\u001b[0m\u001b[0;34m\u001b[0m\u001b[0;34m\u001b[0m\u001b[0m\n",
            "\u001b[0;32m/usr/local/lib/python3.9/dist-packages/pandas/core/frame.py\u001b[0m in \u001b[0;36m__getitem__\u001b[0;34m(self, key)\u001b[0m\n\u001b[1;32m   3503\u001b[0m             \u001b[0;32mif\u001b[0m \u001b[0mself\u001b[0m\u001b[0;34m.\u001b[0m\u001b[0mcolumns\u001b[0m\u001b[0;34m.\u001b[0m\u001b[0mnlevels\u001b[0m \u001b[0;34m>\u001b[0m \u001b[0;36m1\u001b[0m\u001b[0;34m:\u001b[0m\u001b[0;34m\u001b[0m\u001b[0;34m\u001b[0m\u001b[0m\n\u001b[1;32m   3504\u001b[0m                 \u001b[0;32mreturn\u001b[0m \u001b[0mself\u001b[0m\u001b[0;34m.\u001b[0m\u001b[0m_getitem_multilevel\u001b[0m\u001b[0;34m(\u001b[0m\u001b[0mkey\u001b[0m\u001b[0;34m)\u001b[0m\u001b[0;34m\u001b[0m\u001b[0;34m\u001b[0m\u001b[0m\n\u001b[0;32m-> 3505\u001b[0;31m             \u001b[0mindexer\u001b[0m \u001b[0;34m=\u001b[0m \u001b[0mself\u001b[0m\u001b[0;34m.\u001b[0m\u001b[0mcolumns\u001b[0m\u001b[0;34m.\u001b[0m\u001b[0mget_loc\u001b[0m\u001b[0;34m(\u001b[0m\u001b[0mkey\u001b[0m\u001b[0;34m)\u001b[0m\u001b[0;34m\u001b[0m\u001b[0;34m\u001b[0m\u001b[0m\n\u001b[0m\u001b[1;32m   3506\u001b[0m             \u001b[0;32mif\u001b[0m \u001b[0mis_integer\u001b[0m\u001b[0;34m(\u001b[0m\u001b[0mindexer\u001b[0m\u001b[0;34m)\u001b[0m\u001b[0;34m:\u001b[0m\u001b[0;34m\u001b[0m\u001b[0;34m\u001b[0m\u001b[0m\n\u001b[1;32m   3507\u001b[0m                 \u001b[0mindexer\u001b[0m \u001b[0;34m=\u001b[0m \u001b[0;34m[\u001b[0m\u001b[0mindexer\u001b[0m\u001b[0;34m]\u001b[0m\u001b[0;34m\u001b[0m\u001b[0;34m\u001b[0m\u001b[0m\n",
            "\u001b[0;32m/usr/local/lib/python3.9/dist-packages/pandas/core/indexes/base.py\u001b[0m in \u001b[0;36mget_loc\u001b[0;34m(self, key, method, tolerance)\u001b[0m\n\u001b[1;32m   3629\u001b[0m                 \u001b[0;32mreturn\u001b[0m \u001b[0mself\u001b[0m\u001b[0;34m.\u001b[0m\u001b[0m_engine\u001b[0m\u001b[0;34m.\u001b[0m\u001b[0mget_loc\u001b[0m\u001b[0;34m(\u001b[0m\u001b[0mcasted_key\u001b[0m\u001b[0;34m)\u001b[0m\u001b[0;34m\u001b[0m\u001b[0;34m\u001b[0m\u001b[0m\n\u001b[1;32m   3630\u001b[0m             \u001b[0;32mexcept\u001b[0m \u001b[0mKeyError\u001b[0m \u001b[0;32mas\u001b[0m \u001b[0merr\u001b[0m\u001b[0;34m:\u001b[0m\u001b[0;34m\u001b[0m\u001b[0;34m\u001b[0m\u001b[0m\n\u001b[0;32m-> 3631\u001b[0;31m                 \u001b[0;32mraise\u001b[0m \u001b[0mKeyError\u001b[0m\u001b[0;34m(\u001b[0m\u001b[0mkey\u001b[0m\u001b[0;34m)\u001b[0m \u001b[0;32mfrom\u001b[0m \u001b[0merr\u001b[0m\u001b[0;34m\u001b[0m\u001b[0;34m\u001b[0m\u001b[0m\n\u001b[0m\u001b[1;32m   3632\u001b[0m             \u001b[0;32mexcept\u001b[0m \u001b[0mTypeError\u001b[0m\u001b[0;34m:\u001b[0m\u001b[0;34m\u001b[0m\u001b[0;34m\u001b[0m\u001b[0m\n\u001b[1;32m   3633\u001b[0m                 \u001b[0;31m# If we have a listlike key, _check_indexing_error will raise\u001b[0m\u001b[0;34m\u001b[0m\u001b[0;34m\u001b[0m\u001b[0m\n",
            "\u001b[0;31mKeyError\u001b[0m: 'text'"
          ]
        }
      ]
    },
    {
      "cell_type": "code",
      "source": [],
      "metadata": {
        "id": "ngjZjUFR4jeY"
      },
      "execution_count": null,
      "outputs": []
    },
    {
      "cell_type": "code",
      "source": [
        "from bs4 import BeautifulSoup\n",
        "import requests\n",
        "import re\n",
        "import pandas as pd"
      ],
      "metadata": {
        "id": "kOKRcprFzoNi"
      },
      "execution_count": 17,
      "outputs": []
    },
    {
      "cell_type": "code",
      "source": [
        "url = 'http://www.imdb.com/chart/top'\n",
        "response = requests.get(url)\n",
        "soup = BeautifulSoup(response.text, \"html.parser\")\n",
        "movies = soup.select('td.titleColumn')\n",
        "crew = [a.attrs.get('title') for a in soup.select('td.titleColumn a')]\n",
        "ratings = [b.attrs.get('data-value')\n",
        "        for b in soup.select('td.posterColumn span[name=ir]')]\n",
        " "
      ],
      "metadata": {
        "id": "AWQbvnFPaaLY"
      },
      "execution_count": 18,
      "outputs": []
    },
    {
      "cell_type": "code",
      "source": [
        "list = []\n",
        "for index in range(0, len(movies)):\n",
        "    movie_string = movies[index].get_text()\n",
        "    movie = (' '.join(movie_string.split()).replace('.', ''))\n",
        "    movie_title = movie[len(str(index))+1:-7]\n",
        "    year = re.search('\\((.*?)\\)', movie_string).group(1)\n",
        "    place = movie[:len(str(index))-(len(movie))]\n",
        "    data = {\"place\": place,\n",
        "            \"movie_title\": movie_title,\n",
        "            \"rating\": ratings[index],\n",
        "            \"year\": year,\n",
        "            \"star_cast\": crew[index],\n",
        "            }\n",
        "    list.append(data)"
      ],
      "metadata": {
        "id": "nEW9F79-aaH-"
      },
      "execution_count": 19,
      "outputs": []
    },
    {
      "cell_type": "code",
      "source": [
        "for movie in list:\n",
        "    print(movie['place'], '-', movie['movie_title'], '('+movie['year'] +\n",
        "          ') -', 'Starring:', movie['star_cast'], movie['rating'])"
      ],
      "metadata": {
        "colab": {
          "base_uri": "https://localhost:8080/"
        },
        "id": "wpfKa5BQaaFb",
        "outputId": "c16c51d3-ae0e-42a4-9658-a12b6819fb16"
      },
      "execution_count": 20,
      "outputs": [
        {
          "output_type": "stream",
          "name": "stdout",
          "text": [
            "1 - The Shawshank Redemption (1994) - Starring: Frank Darabont (dir.), Tim Robbins, Morgan Freeman 9.23574881449499\n",
            "2 - The Godfather (1972) - Starring: Francis Ford Coppola (dir.), Marlon Brando, Al Pacino 9.155844693301388\n",
            "3 - The Dark Knight (2008) - Starring: Christopher Nolan (dir.), Christian Bale, Heath Ledger 8.99171444223974\n",
            "4 - The Godfather Part II (1974) - Starring: Francis Ford Coppola (dir.), Al Pacino, Robert De Niro 8.983856947540536\n",
            "5 - 12 Angry Men (1957) - Starring: Sidney Lumet (dir.), Henry Fonda, Lee J. Cobb 8.953134807145043\n",
            "6 - Schindler's List (1993) - Starring: Steven Spielberg (dir.), Liam Neeson, Ralph Fiennes 8.940125663414834\n",
            "7 - The Lord of the Rings: The Return of the King (2003) - Starring: Peter Jackson (dir.), Elijah Wood, Viggo Mortensen 8.932478463671059\n",
            "8 - Pulp Fiction (1994) - Starring: Quentin Tarantino (dir.), John Travolta, Uma Thurman 8.846235149945647\n",
            "9 - The Lord of the Rings: The Fellowship of the Ring (2001) - Starring: Peter Jackson (dir.), Elijah Wood, Ian McKellen 8.811026546698491\n",
            "1 -  The Good, the Bad and the Ugly (1966) - Starring: Sergio Leone (dir.), Clint Eastwood, Eli Wallach 8.788828760058035\n",
            "11 - Forrest Gump (1994) - Starring: Robert Zemeckis (dir.), Tom Hanks, Robin Wright 8.766576885549686\n",
            "12 - Fight Club (1999) - Starring: David Fincher (dir.), Brad Pitt, Edward Norton 8.747738158873071\n",
            "13 - The Lord of the Rings: The Two Towers (2002) - Starring: Peter Jackson (dir.), Elijah Wood, Ian McKellen 8.736717225005924\n",
            "14 - Inception (2010) - Starring: Christopher Nolan (dir.), Leonardo DiCaprio, Joseph Gordon-Levitt 8.73263497390988\n",
            "15 - Star Wars: Episode V - The Empire Strikes Back (1980) - Starring: Irvin Kershner (dir.), Mark Hamill, Harrison Ford 8.69841387927617\n",
            "16 - The Matrix (1999) - Starring: Lana Wachowski (dir.), Keanu Reeves, Laurence Fishburne 8.669085226832879\n",
            "17 - Goodfellas (1990) - Starring: Martin Scorsese (dir.), Robert De Niro, Ray Liotta 8.653282008956776\n",
            "18 - One Flew Over the Cuckoo's Nest (1975) - Starring: Milos Forman (dir.), Jack Nicholson, Louise Fletcher 8.637801918609979\n",
            "19 - Se7en (1995) - Starring: David Fincher (dir.), Morgan Freeman, Brad Pitt 8.604619344245148\n",
            "20 - Seven Samurai (1954) - Starring: Akira Kurosawa (dir.), Toshirô Mifune, Takashi Shimura 8.59759173386939\n",
            "21 - It's a Wonderful Life (1946) - Starring: Frank Capra (dir.), James Stewart, Donna Reed 8.597467524872238\n",
            "22 - The Silence of the Lambs (1991) - Starring: Jonathan Demme (dir.), Jodie Foster, Anthony Hopkins 8.588303329692554\n",
            "23 - Saving Private Ryan (1998) - Starring: Steven Spielberg (dir.), Tom Hanks, Matt Damon 8.579744087437316\n",
            "24 - City of God (2002) - Starring: Fernando Meirelles (dir.), Alexandre Rodrigues, Leandro Firmino 8.57931506633016\n",
            "25 - Interstellar (2014) - Starring: Christopher Nolan (dir.), Matthew McConaughey, Anne Hathaway 8.572178726579617\n",
            "26 - Life Is Beautiful (1997) - Starring: Roberto Benigni (dir.), Roberto Benigni, Nicoletta Braschi 8.568510767346497\n",
            "27 - The Green Mile (1999) - Starring: Frank Darabont (dir.), Tom Hanks, Michael Clarke Duncan 8.563528432534971\n",
            "28 - Star Wars (1977) - Starring: George Lucas (dir.), Mark Hamill, Harrison Ford 8.547764536115398\n",
            "29 - Terminator 2: Judgment Day (1991) - Starring: James Cameron (dir.), Arnold Schwarzenegger, Linda Hamilton 8.538155576608181\n",
            "30 - Back to the Future (1985) - Starring: Robert Zemeckis (dir.), Michael J. Fox, Christopher Lloyd 8.517731467996315\n",
            "31 - Spirited Away (2001) - Starring: Hayao Miyazaki (dir.), Daveigh Chase, Suzanne Pleshette 8.515850769020346\n",
            "32 - The Pianist (2002) - Starring: Roman Polanski (dir.), Adrien Brody, Thomas Kretschmann 8.507749281007639\n",
            "33 - Psycho (1960) - Starring: Alfred Hitchcock (dir.), Anthony Perkins, Janet Leigh 8.506211574144034\n",
            "34 - Parasite (2019) - Starring: Bong Joon Ho (dir.), Song Kang-ho, Lee Sun-kyun 8.500117223269411\n",
            "35 - Léon: The Professional (1994) - Starring: Luc Besson (dir.), Jean Reno, Gary Oldman 8.492646059428289\n",
            "36 - The Lion King (1994) - Starring: Roger Allers (dir.), Matthew Broderick, Jeremy Irons 8.487783514944459\n",
            "37 - Gladiator (2000) - Starring: Ridley Scott (dir.), Russell Crowe, Joaquin Phoenix 8.487126584132435\n",
            "38 - American History X (1998) - Starring: Tony Kaye (dir.), Edward Norton, Edward Furlong 8.481403262163369\n",
            "39 - The Departed (2006) - Starring: Martin Scorsese (dir.), Leonardo DiCaprio, Matt Damon 8.476240053897985\n",
            "40 - The Prestige (2006) - Starring: Christopher Nolan (dir.), Christian Bale, Hugh Jackman 8.46923275940254\n",
            "41 - Whiplash (2014) - Starring: Damien Chazelle (dir.), Miles Teller, J.K. Simmons 8.469102906559023\n",
            "42 - The Usual Suspects (1995) - Starring: Bryan Singer (dir.), Kevin Spacey, Gabriel Byrne 8.469038713485354\n",
            "43 - Casablanca (1942) - Starring: Michael Curtiz (dir.), Humphrey Bogart, Ingrid Bergman 8.461345801387024\n",
            "44 - Grave of the Fireflies (1988) - Starring: Isao Takahata (dir.), Tsutomu Tatsumi, Ayano Shiraishi 8.456414151613007\n",
            "45 - Harakiri (1962) - Starring: Masaki Kobayashi (dir.), Tatsuya Nakadai, Akira Ishihama 8.455740372987222\n",
            "46 - The Intouchables (2011) - Starring: Olivier Nakache (dir.), François Cluzet, Omar Sy 8.453270151814472\n",
            "47 - Modern Times (1936) - Starring: Charles Chaplin (dir.), Charles Chaplin, Paulette Goddard 8.446622705151302\n",
            "48 - Once Upon a Time in the West (1968) - Starring: Sergio Leone (dir.), Henry Fonda, Charles Bronson 8.440430547781933\n",
            "49 - Cinema Paradiso (1988) - Starring: Giuseppe Tornatore (dir.), Philippe Noiret, Enzo Cannavale 8.435646511015307\n",
            "50 - Rear Window (1954) - Starring: Alfred Hitchcock (dir.), James Stewart, Grace Kelly 8.435218506879435\n",
            "51 - Alien (1979) - Starring: Ridley Scott (dir.), Sigourney Weaver, Tom Skerritt 8.433272678143519\n",
            "52 - City Lights (1931) - Starring: Charles Chaplin (dir.), Charles Chaplin, Virginia Cherrill 8.431917328068959\n",
            "53 - Apocalypse Now (1979) - Starring: Francis Ford Coppola (dir.), Martin Sheen, Marlon Brando 8.422734955909032\n",
            "54 - Memento (2000) - Starring: Christopher Nolan (dir.), Guy Pearce, Carrie-Anne Moss 8.419105402059355\n",
            "55 - Django Unchained (2012) - Starring: Quentin Tarantino (dir.), Jamie Foxx, Christoph Waltz 8.409203809331887\n",
            "56 - Raiders of the Lost Ark (1981) - Starring: Steven Spielberg (dir.), Harrison Ford, Karen Allen 8.405997514643685\n",
            "57 - WALL·E (2008) - Starring: Andrew Stanton (dir.), Ben Burtt, Elissa Knight 8.395399427373748\n",
            "58 - The Lives of Others (2006) - Starring: Florian Henckel von Donnersmarck (dir.), Ulrich Mühe, Martina Gedeck 8.383649817040432\n",
            "59 - Sunset Blvd (1950) - Starring: Billy Wilder (dir.), William Holden, Gloria Swanson 8.378683316958668\n",
            "60 - Paths of Glory (1957) - Starring: Stanley Kubrick (dir.), Kirk Douglas, Ralph Meeker 8.371337273000776\n",
            "61 - The Shining (1980) - Starring: Stanley Kubrick (dir.), Jack Nicholson, Shelley Duvall 8.364901307888486\n",
            "62 - The Great Dictator (1940) - Starring: Charles Chaplin (dir.), Charles Chaplin, Paulette Goddard 8.363902841954356\n",
            "63 - Avengers: Infinity War (2018) - Starring: Anthony Russo (dir.), Robert Downey Jr., Chris Hemsworth 8.361941354079327\n",
            "64 - Witness for the Prosecution (1957) - Starring: Billy Wilder (dir.), Tyrone Power, Marlene Dietrich 8.360070918733395\n",
            "65 - Aliens (1986) - Starring: James Cameron (dir.), Sigourney Weaver, Michael Biehn 8.342977129678445\n",
            "66 - Spider-Man: Into the Spider-Verse (2018) - Starring: Bob Persichetti (dir.), Shameik Moore, Jake Johnson 8.338518892808837\n",
            "67 - American Beauty (1999) - Starring: Sam Mendes (dir.), Kevin Spacey, Annette Bening 8.329645907391166\n",
            "68 - Dr Strangelove or: How I Learned to Stop Worrying and Love the Bomb (1964) - Starring: Stanley Kubrick (dir.), Peter Sellers, George C. Scott 8.326982949393054\n",
            "69 - The Dark Knight Rises (2012) - Starring: Christopher Nolan (dir.), Christian Bale, Tom Hardy 8.326002855480466\n",
            "70 - Oldboy (2003) - Starring: Park Chan-wook (dir.), Choi Min-sik, Yoo Ji-tae 8.320039308474135\n",
            "71 - Inglourious Basterds (2009) - Starring: Quentin Tarantino (dir.), Brad Pitt, Diane Kruger 8.318824885985848\n",
            "72 - Amadeus (1984) - Starring: Milos Forman (dir.), F. Murray Abraham, Tom Hulce 8.31617863740769\n",
            "73 - Coco (2017) - Starring: Lee Unkrich (dir.), Anthony Gonzalez, Gael García Bernal 8.315231034217986\n",
            "74 - Toy Story (1995) - Starring: John Lasseter (dir.), Tom Hanks, Tim Allen 8.314060664404947\n",
            "75 - Joker (2019) - Starring: Todd Phillips (dir.), Joaquin Phoenix, Robert De Niro 8.312629010922887\n",
            "76 - Braveheart (1995) - Starring: Mel Gibson (dir.), Mel Gibson, Sophie Marceau 8.312550799389129\n",
            "77 - Das Boot (1981) - Starring: Wolfgang Petersen (dir.), Jürgen Prochnow, Herbert Grönemeyer 8.311542299138173\n",
            "78 - Avengers: Endgame (2019) - Starring: Anthony Russo (dir.), Robert Downey Jr., Chris Evans 8.303756340054864\n",
            "79 - Princess Mononoke (1997) - Starring: Hayao Miyazaki (dir.), Yôji Matsuda, Yuriko Ishida 8.302957722793495\n",
            "80 - Once Upon a Time in America (1984) - Starring: Sergio Leone (dir.), Robert De Niro, James Woods 8.294380536172843\n",
            "81 - Good Will Hunting (1997) - Starring: Gus Van Sant (dir.), Robin Williams, Matt Damon 8.293053414253457\n",
            "82 - Your Name (2016) - Starring: Makoto Shinkai (dir.), Ryunosuke Kamiki, Mone Kamishiraishi 8.28285882880571\n",
            "83 - Singin' in the Rain (1952) - Starring: Stanley Donen (dir.), Gene Kelly, Donald O'Connor 8.275249486184595\n",
            "84 - 3 Idiots (2009) - Starring: Rajkumar Hirani (dir.), Aamir Khan, Madhavan 8.274816036678297\n",
            "85 - Requiem for a Dream (2000) - Starring: Darren Aronofsky (dir.), Ellen Burstyn, Jared Leto 8.273571710128513\n",
            "86 - High and Low (1963) - Starring: Akira Kurosawa (dir.), Toshirô Mifune, Yutaka Sada 8.272132232222248\n",
            "87 - Toy Story 3 (2010) - Starring: Lee Unkrich (dir.), Tom Hanks, Tim Allen 8.27054132899357\n",
            "88 - Capernaum (2018) - Starring: Nadine Labaki (dir.), Zain Al Rafeea, Yordanos Shiferaw 8.266971950049856\n",
            "89 - Star Wars: Episode VI - Return of the Jedi (1983) - Starring: Richard Marquand (dir.), Mark Hamill, Harrison Ford 8.264080071322475\n",
            "90 - Eternal Sunshine of the Spotless Mind (2004) - Starring: Michel Gondry (dir.), Jim Carrey, Kate Winslet 8.26152013566219\n",
            "91 - 2001: A Space Odyssey (1968) - Starring: Stanley Kubrick (dir.), Keir Dullea, Gary Lockwood 8.26150616870702\n",
            "92 - Come and See (1985) - Starring: Elem Klimov (dir.), Aleksey Kravchenko, Olga Mironova 8.2596101431106\n",
            "93 - Reservoir Dogs (1992) - Starring: Quentin Tarantino (dir.), Harvey Keitel, Tim Roth 8.258559484061696\n",
            "94 - The Hunt (2012) - Starring: Thomas Vinterberg (dir.), Mads Mikkelsen, Thomas Bo Larsen 8.257429177285934\n",
            "95 - Citizen Kane (1941) - Starring: Orson Welles (dir.), Orson Welles, Joseph Cotten 8.249768020044804\n",
            "96 - M (1931) - Starring: Fritz Lang (dir.), Peter Lorre, Ellen Widmann 8.249521727385261\n",
            "97 - Lawrence of Arabia (1962) - Starring: David Lean (dir.), Peter O'Toole, Alec Guinness 8.24937986521522\n",
            "98 - North by Northwest (1959) - Starring: Alfred Hitchcock (dir.), Cary Grant, Eva Marie Saint 8.24539849286606\n",
            "99 - Ikiru (1952) - Starring: Akira Kurosawa (dir.), Takashi Shimura, Nobuo Kaneko 8.244321235256036\n",
            "10 -  Vertigo (1958) - Starring: Alfred Hitchcock (dir.), James Stewart, Kim Novak 8.24253722729505\n",
            "101 - The Apartment (1960) - Starring: Billy Wilder (dir.), Jack Lemmon, Shirley MacLaine 8.241641585987612\n",
            "102 - Amélie (2001) - Starring: Jean-Pierre Jeunet (dir.), Audrey Tautou, Mathieu Kassovitz 8.24092808012763\n",
            "103 - A Clockwork Orange (1971) - Starring: Stanley Kubrick (dir.), Malcolm McDowell, Patrick Magee 8.238071423463786\n",
            "104 - Double Indemnity (1944) - Starring: Billy Wilder (dir.), Fred MacMurray, Barbara Stanwyck 8.237886376214272\n",
            "105 - Full Metal Jacket (1987) - Starring: Stanley Kubrick (dir.), Matthew Modine, R. Lee Ermey 8.23669074247265\n",
            "106 - Scarface (1983) - Starring: Brian De Palma (dir.), Al Pacino, Michelle Pfeiffer 8.234796830456283\n",
            "107 - Hamilton (2020) - Starring: Thomas Kail (dir.), Lin-Manuel Miranda, Phillipa Soo 8.231447983147344\n",
            "108 - Incendies (2010) - Starring: Denis Villeneuve (dir.), Lubna Azabal, Mélissa Désormeaux-Poulin 8.226966674402288\n",
            "109 - Heat (1995) - Starring: Michael Mann (dir.), Al Pacino, Robert De Niro 8.225778261604349\n",
            "110 - To Kill a Mockingbird (1962) - Starring: Robert Mulligan (dir.), Gregory Peck, John Megna 8.225482286942968\n",
            "111 - Up (2009) - Starring: Pete Docter (dir.), Edward Asner, Jordan Nagai 8.224761092179222\n",
            "112 - The Sting (1973) - Starring: George Roy Hill (dir.), Paul Newman, Robert Redford 8.224703735599322\n",
            "113 - A Separation (2011) - Starring: Asghar Farhadi (dir.), Payman Maadi, Leila Hatami 8.221226633475347\n",
            "114 - Metropolis (1927) - Starring: Fritz Lang (dir.), Brigitte Helm, Alfred Abel 8.220634426948717\n",
            "115 - Taxi Driver (1976) - Starring: Martin Scorsese (dir.), Robert De Niro, Jodie Foster 8.21885557454446\n",
            "116 - LA Confidential (1997) - Starring: Curtis Hanson (dir.), Kevin Spacey, Russell Crowe 8.218312369708688\n",
            "117 - Die Hard (1988) - Starring: John McTiernan (dir.), Bruce Willis, Alan Rickman 8.21764072236274\n",
            "118 - Snatch (2000) - Starring: Guy Ritchie (dir.), Jason Statham, Brad Pitt 8.216757747109687\n",
            "119 - Indiana Jones and the Last Crusade (1989) - Starring: Steven Spielberg (dir.), Harrison Ford, Sean Connery 8.216691629280094\n",
            "120 - Top Gun: Maverick (2022) - Starring: Joseph Kosinski (dir.), Tom Cruise, Jennifer Connelly 8.216145785514273\n",
            "121 - Bicycle Thieves (1948) - Starring: Vittorio De Sica (dir.), Lamberto Maggiorani, Enzo Staiola 8.21555170548697\n",
            "122 - Like Stars on Earth (2007) - Starring: Aamir Khan (dir.), Darsheel Safary, Aamir Khan 8.212526359282311\n",
            "123 - 1917 (2019) - Starring: Sam Mendes (dir.), Dean-Charles Chapman, George MacKay 8.211127764755984\n",
            "124 - Downfall (2004) - Starring: Oliver Hirschbiegel (dir.), Bruno Ganz, Alexandra Maria Lara 8.203122093896987\n",
            "125 - Dangal (2016) - Starring: Nitesh Tiwari (dir.), Aamir Khan, Sakshi Tanwar 8.200098590336488\n",
            "126 - For a Few Dollars More (1965) - Starring: Sergio Leone (dir.), Clint Eastwood, Lee Van Cleef 8.198858796362732\n",
            "127 - Batman Begins (2005) - Starring: Christopher Nolan (dir.), Christian Bale, Michael Caine 8.19715081177046\n",
            "128 - The Kid (1921) - Starring: Charles Chaplin (dir.), Charles Chaplin, Edna Purviance 8.190745482178617\n",
            "129 - Some Like It Hot (1959) - Starring: Billy Wilder (dir.), Marilyn Monroe, Tony Curtis 8.190294740817325\n",
            "130 - The Father (2020) - Starring: Florian Zeller (dir.), Anthony Hopkins, Olivia Colman 8.181781297231561\n",
            "131 - All About Eve (1950) - Starring: Joseph L. Mankiewicz (dir.), Bette Davis, Anne Baxter 8.180077754110272\n",
            "132 - The Wolf of Wall Street (2013) - Starring: Martin Scorsese (dir.), Leonardo DiCaprio, Jonah Hill 8.178146925019778\n",
            "133 - Green Book (2018) - Starring: Peter Farrelly (dir.), Viggo Mortensen, Mahershala Ali 8.177581915546108\n",
            "134 - Judgment at Nuremberg (1961) - Starring: Stanley Kramer (dir.), Spencer Tracy, Burt Lancaster 8.171755986646495\n",
            "135 - Ran (1985) - Starring: Akira Kurosawa (dir.), Tatsuya Nakadai, Akira Terao 8.164494387569647\n",
            "136 - Casino (1995) - Starring: Martin Scorsese (dir.), Robert De Niro, Sharon Stone 8.163983153056817\n",
            "137 - The Truman Show (1998) - Starring: Peter Weir (dir.), Jim Carrey, Ed Harris 8.161494303534898\n",
            "138 - There Will Be Blood (2007) - Starring: Paul Thomas Anderson (dir.), Daniel Day-Lewis, Paul Dano 8.160637131470452\n",
            "139 - Pan's Labyrinth (2006) - Starring: Guillermo del Toro (dir.), Ivana Baquero, Ariadna Gil 8.160327762669162\n",
            "140 - Unforgiven (1992) - Starring: Clint Eastwood (dir.), Clint Eastwood, Gene Hackman 8.15847720911008\n",
            "141 - The Sixth Sense (1999) - Starring: M. Night Shyamalan (dir.), Bruce Willis, Haley Joel Osment 8.154696764449673\n",
            "142 - Shutter Island (2010) - Starring: Martin Scorsese (dir.), Leonardo DiCaprio, Emily Mortimer 8.153470847132107\n",
            "143 - A Beautiful Mind (2001) - Starring: Ron Howard (dir.), Russell Crowe, Ed Harris 8.150797018285159\n",
            "144 - Jurassic Park (1993) - Starring: Steven Spielberg (dir.), Sam Neill, Laura Dern 8.1495703533956\n",
            "145 - Yojimbo (1961) - Starring: Akira Kurosawa (dir.), Toshirô Mifune, Eijirô Tôno 8.147319495097214\n",
            "146 - The Treasure of the Sierra Madre (1948) - Starring: John Huston (dir.), Humphrey Bogart, Walter Huston 8.14687772002875\n",
            "147 - Monty Python and the Holy Grail (1975) - Starring: Terry Gilliam (dir.), Graham Chapman, John Cleese 8.14517045277115\n",
            "148 - No Country for Old Men (2007) - Starring: Ethan Coen (dir.), Tommy Lee Jones, Javier Bardem 8.140292411741157\n",
            "149 - The Great Escape (1963) - Starring: John Sturges (dir.), Steve McQueen, James Garner 8.139679725523001\n",
            "150 - Kill Bill: Vol 1 (2003) - Starring: Quentin Tarantino (dir.), Uma Thurman, David Carradine 8.139038495358083\n",
            "151 - Rashomon (1950) - Starring: Akira Kurosawa (dir.), Toshirô Mifune, Machiko Kyô 8.137655040535277\n",
            "152 - Spider-Man: No Way Home (2021) - Starring: Jon Watts (dir.), Tom Holland, Zendaya 8.13437088513849\n",
            "153 - The Thing (1982) - Starring: John Carpenter (dir.), Kurt Russell, Wilford Brimley 8.134080091713198\n",
            "154 - Finding Nemo (2003) - Starring: Andrew Stanton (dir.), Albert Brooks, Ellen DeGeneres 8.131363107948943\n",
            "155 - The Elephant Man (1980) - Starring: David Lynch (dir.), Anthony Hopkins, John Hurt 8.126790869559214\n",
            "156 - Chinatown (1974) - Starring: Roman Polanski (dir.), Jack Nicholson, Faye Dunaway 8.125190107710539\n",
            "157 - Raging Bull (1980) - Starring: Martin Scorsese (dir.), Robert De Niro, Cathy Moriarty 8.122680290548901\n",
            "158 - V for Vendetta (2005) - Starring: James McTeigue (dir.), Hugo Weaving, Natalie Portman 8.122385553450433\n",
            "159 - Gone with the Wind (1939) - Starring: Victor Fleming (dir.), Clark Gable, Vivien Leigh 8.121563252871551\n",
            "160 - Lock, Stock and Two Smoking Barrels (1998) - Starring: Guy Ritchie (dir.), Jason Flemyng, Dexter Fletcher 8.119982945784784\n",
            "161 - Dial M for Murder (1954) - Starring: Alfred Hitchcock (dir.), Ray Milland, Grace Kelly 8.119785713896496\n",
            "162 - Inside Out (2015) - Starring: Pete Docter (dir.), Amy Poehler, Bill Hader 8.119696415536941\n",
            "163 - The Secret in Their Eyes (2009) - Starring: Juan José Campanella (dir.), Ricardo Darín, Soledad Villamil 8.117906485479697\n",
            "164 - Howl's Moving Castle (2004) - Starring: Hayao Miyazaki (dir.), Chieko Baisho, Takuya Kimura 8.1175594629367\n",
            "165 - Three Billboards Outside Ebbing, Missouri (2017) - Starring: Martin McDonagh (dir.), Frances McDormand, Woody Harrelson 8.111346767798217\n",
            "166 - Trainspotting (1996) - Starring: Danny Boyle (dir.), Ewan McGregor, Ewen Bremner 8.110309854004226\n",
            "167 - The Bridge on the River Kwai (1957) - Starring: David Lean (dir.), William Holden, Alec Guinness 8.110061609606943\n",
            "168 - Prisoners (2013) - Starring: Denis Villeneuve (dir.), Hugh Jackman, Jake Gyllenhaal 8.106733324168342\n",
            "169 - Warrior (2011) - Starring: Gavin O'Connor (dir.), Tom Hardy, Nick Nolte 8.102468020993248\n",
            "170 - Fargo (1996) - Starring: Joel Coen (dir.), William H. Macy, Frances McDormand 8.102414968702732\n",
            "171 - Gran Torino (2008) - Starring: Clint Eastwood (dir.), Clint Eastwood, Bee Vang 8.100159933464985\n",
            "172 - My Neighbor Totoro (1988) - Starring: Hayao Miyazaki (dir.), Hitoshi Takagi, Noriko Hidaka 8.091995561236496\n",
            "173 - Catch Me If You Can (2002) - Starring: Steven Spielberg (dir.), Leonardo DiCaprio, Tom Hanks 8.091534561457864\n",
            "174 - Million Dollar Baby (2004) - Starring: Clint Eastwood (dir.), Hilary Swank, Clint Eastwood 8.0885457545286\n",
            "175 - Children of Heaven (1997) - Starring: Majid Majidi (dir.), Mohammad Amir Naji, Amir Farrokh Hashemian 8.086482066096567\n",
            "176 - Blade Runner (1982) - Starring: Ridley Scott (dir.), Harrison Ford, Rutger Hauer 8.084597456445888\n",
            "177 - The Gold Rush (1925) - Starring: Charles Chaplin (dir.), Charles Chaplin, Mack Swain 8.084363274101413\n",
            "178 - Klaus (2019) - Starring: Sergio Pablos (dir.), Jason Schwartzman, J.K. Simmons 8.081832781426488\n",
            "179 - Before Sunrise (1995) - Starring: Richard Linklater (dir.), Ethan Hawke, Julie Delpy 8.08101513681238\n",
            "180 - Harry Potter and the Deathly Hallows: Part 2 (2011) - Starring: David Yates (dir.), Daniel Radcliffe, Emma Watson 8.08100459389826\n",
            "181 - 12 Years a Slave (2013) - Starring: Steve McQueen (dir.), Chiwetel Ejiofor, Michael Kenneth Williams 8.080561050569385\n",
            "182 - On the Waterfront (1954) - Starring: Elia Kazan (dir.), Marlon Brando, Karl Malden 8.078620485826155\n",
            "183 - Ben-Hur (1959) - Starring: William Wyler (dir.), Charlton Heston, Jack Hawkins 8.07794419772591\n",
            "184 - The Grand Budapest Hotel (2014) - Starring: Wes Anderson (dir.), Ralph Fiennes, F. Murray Abraham 8.077361807037077\n",
            "185 - Gone Girl (2014) - Starring: David Fincher (dir.), Ben Affleck, Rosamund Pike 8.07696719467859\n",
            "186 - Wild Strawberries (1957) - Starring: Ingmar Bergman (dir.), Victor Sjöström, Bibi Andersson 8.075746276647777\n",
            "187 - The General (1926) - Starring: Clyde Bruckman (dir.), Buster Keaton, Marion Mack 8.075028642849139\n",
            "188 - Barry Lyndon (1975) - Starring: Stanley Kubrick (dir.), Ryan O'Neal, Marisa Berenson 8.073847209966342\n",
            "189 - In the Name of the Father (1993) - Starring: Jim Sheridan (dir.), Daniel Day-Lewis, Pete Postlethwaite 8.073788541935363\n",
            "190 - The Third Man (1949) - Starring: Carol Reed (dir.), Orson Welles, Joseph Cotten 8.073491189925493\n",
            "191 - The Deer Hunter (1978) - Starring: Michael Cimino (dir.), Robert De Niro, Christopher Walken 8.073022366733275\n",
            "192 - Hacksaw Ridge (2016) - Starring: Mel Gibson (dir.), Andrew Garfield, Sam Worthington 8.071249123317077\n",
            "193 - The Wages of Fear (1953) - Starring: Henri-Georges Clouzot (dir.), Yves Montand, Charles Vanel 8.070163831071287\n",
            "194 - Memories of Murder (2003) - Starring: Bong Joon Ho (dir.), Song Kang-ho, Kim Sang-kyung 8.069179239769051\n",
            "195 - Sherlock Jr (1924) - Starring: Buster Keaton (dir.), Buster Keaton, Kathryn McGuire 8.067830643012377\n",
            "196 - Wild Tales (2014) - Starring: Damián Szifron (dir.), Darío Grandinetti, María Marull 8.067658680475017\n",
            "197 - Mr Smith Goes to Washington (1939) - Starring: Frank Capra (dir.), James Stewart, Jean Arthur 8.066359015567961\n",
            "198 - Mad Max: Fury Road (2015) - Starring: George Miller (dir.), Tom Hardy, Charlize Theron 8.063609956533623\n",
            "199 - Mary and Max (2009) - Starring: Adam Elliot (dir.), Toni Collette, Philip Seymour Hoffman 8.06285761685915\n",
            "200 - The Seventh Seal (1957) - Starring: Ingmar Bergman (dir.), Max von Sydow, Gunnar Björnstrand 8.061964202645454\n",
            "201 - How to Train Your Dragon (2010) - Starring: Dean DeBlois (dir.), Jay Baruchel, Gerard Butler 8.061345773885979\n",
            "202 - Monsters, Inc (2001) - Starring: Pete Docter (dir.), Billy Crystal, John Goodman 8.060716322037848\n",
            "203 - Jaws (1975) - Starring: Steven Spielberg (dir.), Roy Scheider, Robert Shaw 8.060142307661442\n",
            "204 - Dead Poets Society (1989) - Starring: Peter Weir (dir.), Robin Williams, Robert Sean Leonard 8.059983435737784\n",
            "205 - Room (2015) - Starring: Lenny Abrahamson (dir.), Brie Larson, Jacob Tremblay 8.05995132567797\n",
            "206 - The Big Lebowski (1998) - Starring: Joel Coen (dir.), Jeff Bridges, John Goodman 8.057978655677413\n",
            "207 - Tokyo Story (1953) - Starring: Yasujirô Ozu (dir.), Chishû Ryû, Chieko Higashiyama 8.055235945371678\n",
            "208 - The Passion of Joan of Arc (1928) - Starring: Carl Theodor Dreyer (dir.), Maria Falconetti, Eugene Silvain 8.053045068434484\n",
            "209 - Ford v Ferrari (2019) - Starring: James Mangold (dir.), Matt Damon, Christian Bale 8.049456382430716\n",
            "210 - Hotel Rwanda (2004) - Starring: Terry George (dir.), Don Cheadle, Sophie Okonedo 8.048608440223967\n",
            "211 - Rocky (1976) - Starring: John G. Avildsen (dir.), Sylvester Stallone, Talia Shire 8.046741504473063\n",
            "212 - Platoon (1986) - Starring: Oliver Stone (dir.), Charlie Sheen, Tom Berenger 8.044239567021675\n",
            "213 - Ratatouille (2007) - Starring: Brad Bird (dir.), Brad Garrett, Lou Romano 8.042856777583928\n",
            "214 - Spotlight (2015) - Starring: Tom McCarthy (dir.), Mark Ruffalo, Michael Keaton 8.040995953755795\n",
            "215 - Logan (2017) - Starring: James Mangold (dir.), Hugh Jackman, Patrick Stewart 8.040246518493685\n",
            "216 - The Terminator (1984) - Starring: James Cameron (dir.), Arnold Schwarzenegger, Linda Hamilton 8.04009925838121\n",
            "217 - Stand by Me (1986) - Starring: Rob Reiner (dir.), Wil Wheaton, River Phoenix 8.037352064679725\n",
            "218 - Rush (2013) - Starring: Ron Howard (dir.), Daniel Brühl, Chris Hemsworth 8.035271945737641\n",
            "219 - Network (1976) - Starring: Sidney Lumet (dir.), Faye Dunaway, William Holden 8.034480248994512\n",
            "220 - Before Sunset (2004) - Starring: Richard Linklater (dir.), Ethan Hawke, Julie Delpy 8.032613685883316\n",
            "221 - Into the Wild (2007) - Starring: Sean Penn (dir.), Emile Hirsch, Vince Vaughn 8.031380355497742\n",
            "222 - The Wizard of Oz (1939) - Starring: Victor Fleming (dir.), Judy Garland, Frank Morgan 8.030577774340799\n",
            "223 - The Best Years of Our Lives (1946) - Starring: William Wyler (dir.), Myrna Loy, Dana Andrews 8.028460466651039\n",
            "224 - Groundhog Day (1993) - Starring: Harold Ramis (dir.), Bill Murray, Andie MacDowell 8.027116826339112\n",
            "225 - The Exorcist (1973) - Starring: William Friedkin (dir.), Ellen Burstyn, Max von Sydow 8.026592039947015\n",
            "226 - Pather Panchali (1955) - Starring: Satyajit Ray (dir.), Kanu Bannerjee, Karuna Bannerjee 8.025138120733278\n",
            "227 - The Incredibles (2004) - Starring: Brad Bird (dir.), Craig T. Nelson, Samuel L. Jackson 8.024924543702463\n",
            "228 - To Be or Not to Be (1942) - Starring: Ernst Lubitsch (dir.), Carole Lombard, Jack Benny 8.02443511868865\n",
            "229 - La haine (1995) - Starring: Mathieu Kassovitz (dir.), Vincent Cassel, Hubert Koundé 8.024098636022952\n",
            "230 - Pirates of the Caribbean: The Curse of the Black Pearl (2003) - Starring: Gore Verbinski (dir.), Johnny Depp, Geoffrey Rush 8.023221658315041\n",
            "231 - Jai Bhim (2021) - Starring: T.J. Gnanavel (dir.), Suriya, Lijo Mol Jose 8.022507184136249\n",
            "232 - The Grapes of Wrath (1940) - Starring: John Ford (dir.), Henry Fonda, Jane Darwell 8.022180153412013\n",
            "233 - The Battle of Algiers (1966) - Starring: Gillo Pontecorvo (dir.), Brahim Hadjadj, Jean Martin 8.022152272703295\n",
            "234 - Hachi: A Dog's Tale (2009) - Starring: Lasse Hallström (dir.), Richard Gere, Joan Allen 8.022045895642211\n",
            "235 - My Father and My Son (2005) - Starring: Çagan Irmak (dir.), Çetin Tekindor, Fikret Kuskan 8.020025182748876\n",
            "236 - Amores Perros (2000) - Starring: Alejandro G. Iñárritu (dir.), Emilio Echevarría, Gael García Bernal 8.019719244794386\n",
            "237 - Rebecca (1940) - Starring: Alfred Hitchcock (dir.), Laurence Olivier, Joan Fontaine 8.018947286338577\n",
            "238 - Cool Hand Luke (1967) - Starring: Stuart Rosenberg (dir.), Paul Newman, George Kennedy 8.01836798912284\n",
            "239 - The Handmaiden (2016) - Starring: Park Chan-wook (dir.), Kim Min-hee, Ha Jung-woo 8.01710840645825\n",
            "240 - The 400 Blows (1959) - Starring: François Truffaut (dir.), Jean-Pierre Léaud, Albert Rémy 8.013767613574931\n",
            "241 - The Sound of Music (1965) - Starring: Robert Wise (dir.), Julie Andrews, Christopher Plummer 8.013232664262699\n",
            "242 - It Happened One Night (1934) - Starring: Frank Capra (dir.), Clark Gable, Claudette Colbert 8.012757996856795\n",
            "243 - Persona (1966) - Starring: Ingmar Bergman (dir.), Bibi Andersson, Liv Ullmann 8.011359464520613\n",
            "244 - Life of Brian (1979) - Starring: Terry Jones (dir.), Graham Chapman, John Cleese 8.009041814478138\n",
            "245 - The Iron Giant (1999) - Starring: Brad Bird (dir.), Eli Marienthal, Harry Connick Jr. 8.005539999604071\n",
            "246 - The Help (2011) - Starring: Tate Taylor (dir.), Viola Davis, Emma Stone 8.005413565182945\n",
            "247 - Dersu Uzala (1975) - Starring: Akira Kurosawa (dir.), Maksim Munzuk, Yuriy Solomin 8.004529352776455\n",
            "248 - Aladdin (1992) - Starring: Ron Clements (dir.), Scott Weinger, Robin Williams 8.003748420946119\n",
            "249 - Dances with Wolves (1990) - Starring: Kevin Costner (dir.), Kevin Costner, Mary McDonnell 8.001679650745615\n",
            "250 - Gandhi (1982) - Starring: Richard Attenborough (dir.), Ben Kingsley, John Gielgud 8.001560853902506\n"
          ]
        }
      ]
    },
    {
      "cell_type": "code",
      "source": [
        "df = pd.DataFrame(list)\n",
        "df.to_csv('imdb_top_250_movies.csv',index=False)"
      ],
      "metadata": {
        "id": "Wp9S6-A3aaDK"
      },
      "execution_count": 21,
      "outputs": []
    },
    {
      "cell_type": "markdown",
      "source": [
        "**Importing a CSV file using the read_csv function**"
      ],
      "metadata": {
        "id": "8ZhFOsMccMGV"
      }
    },
    {
      "cell_type": "code",
      "source": [
        "import pandas as pd\n"
      ],
      "metadata": {
        "id": "-Pf28YfgaZ-n"
      },
      "execution_count": 22,
      "outputs": []
    },
    {
      "cell_type": "code",
      "source": [
        "data = pd.read_csv(\"imdb_top_250_movies.csv\")"
      ],
      "metadata": {
        "id": "Oag--1BkaZ8j"
      },
      "execution_count": 28,
      "outputs": []
    },
    {
      "cell_type": "code",
      "source": [
        "data.head()"
      ],
      "metadata": {
        "colab": {
          "base_uri": "https://localhost:8080/",
          "height": 250
        },
        "id": "re-sE-LsaZ6B",
        "outputId": "d86b215f-930c-4e16-9c3c-48188fc694eb"
      },
      "execution_count": 29,
      "outputs": [
        {
          "output_type": "execute_result",
          "data": {
            "text/plain": [
              "   place               movie_title    rating  year  \\\n",
              "0      1  The Shawshank Redemption  9.235749  1994   \n",
              "1      2             The Godfather  9.155845  1972   \n",
              "2      3           The Dark Knight  8.991714  2008   \n",
              "3      4     The Godfather Part II  8.983857  1974   \n",
              "4      5              12 Angry Men  8.953135  1957   \n",
              "\n",
              "                                           star_cast  \n",
              "0  Frank Darabont (dir.), Tim Robbins, Morgan Fre...  \n",
              "1  Francis Ford Coppola (dir.), Marlon Brando, Al...  \n",
              "2  Christopher Nolan (dir.), Christian Bale, Heat...  \n",
              "3  Francis Ford Coppola (dir.), Al Pacino, Robert...  \n",
              "4      Sidney Lumet (dir.), Henry Fonda, Lee J. Cobb  "
            ],
            "text/html": [
              "\n",
              "  <div id=\"df-0ce50275-f5e9-4cfb-9570-65e069e0d2ed\">\n",
              "    <div class=\"colab-df-container\">\n",
              "      <div>\n",
              "<style scoped>\n",
              "    .dataframe tbody tr th:only-of-type {\n",
              "        vertical-align: middle;\n",
              "    }\n",
              "\n",
              "    .dataframe tbody tr th {\n",
              "        vertical-align: top;\n",
              "    }\n",
              "\n",
              "    .dataframe thead th {\n",
              "        text-align: right;\n",
              "    }\n",
              "</style>\n",
              "<table border=\"1\" class=\"dataframe\">\n",
              "  <thead>\n",
              "    <tr style=\"text-align: right;\">\n",
              "      <th></th>\n",
              "      <th>place</th>\n",
              "      <th>movie_title</th>\n",
              "      <th>rating</th>\n",
              "      <th>year</th>\n",
              "      <th>star_cast</th>\n",
              "    </tr>\n",
              "  </thead>\n",
              "  <tbody>\n",
              "    <tr>\n",
              "      <th>0</th>\n",
              "      <td>1</td>\n",
              "      <td>The Shawshank Redemption</td>\n",
              "      <td>9.235749</td>\n",
              "      <td>1994</td>\n",
              "      <td>Frank Darabont (dir.), Tim Robbins, Morgan Fre...</td>\n",
              "    </tr>\n",
              "    <tr>\n",
              "      <th>1</th>\n",
              "      <td>2</td>\n",
              "      <td>The Godfather</td>\n",
              "      <td>9.155845</td>\n",
              "      <td>1972</td>\n",
              "      <td>Francis Ford Coppola (dir.), Marlon Brando, Al...</td>\n",
              "    </tr>\n",
              "    <tr>\n",
              "      <th>2</th>\n",
              "      <td>3</td>\n",
              "      <td>The Dark Knight</td>\n",
              "      <td>8.991714</td>\n",
              "      <td>2008</td>\n",
              "      <td>Christopher Nolan (dir.), Christian Bale, Heat...</td>\n",
              "    </tr>\n",
              "    <tr>\n",
              "      <th>3</th>\n",
              "      <td>4</td>\n",
              "      <td>The Godfather Part II</td>\n",
              "      <td>8.983857</td>\n",
              "      <td>1974</td>\n",
              "      <td>Francis Ford Coppola (dir.), Al Pacino, Robert...</td>\n",
              "    </tr>\n",
              "    <tr>\n",
              "      <th>4</th>\n",
              "      <td>5</td>\n",
              "      <td>12 Angry Men</td>\n",
              "      <td>8.953135</td>\n",
              "      <td>1957</td>\n",
              "      <td>Sidney Lumet (dir.), Henry Fonda, Lee J. Cobb</td>\n",
              "    </tr>\n",
              "  </tbody>\n",
              "</table>\n",
              "</div>\n",
              "      <button class=\"colab-df-convert\" onclick=\"convertToInteractive('df-0ce50275-f5e9-4cfb-9570-65e069e0d2ed')\"\n",
              "              title=\"Convert this dataframe to an interactive table.\"\n",
              "              style=\"display:none;\">\n",
              "        \n",
              "  <svg xmlns=\"http://www.w3.org/2000/svg\" height=\"24px\"viewBox=\"0 0 24 24\"\n",
              "       width=\"24px\">\n",
              "    <path d=\"M0 0h24v24H0V0z\" fill=\"none\"/>\n",
              "    <path d=\"M18.56 5.44l.94 2.06.94-2.06 2.06-.94-2.06-.94-.94-2.06-.94 2.06-2.06.94zm-11 1L8.5 8.5l.94-2.06 2.06-.94-2.06-.94L8.5 2.5l-.94 2.06-2.06.94zm10 10l.94 2.06.94-2.06 2.06-.94-2.06-.94-.94-2.06-.94 2.06-2.06.94z\"/><path d=\"M17.41 7.96l-1.37-1.37c-.4-.4-.92-.59-1.43-.59-.52 0-1.04.2-1.43.59L10.3 9.45l-7.72 7.72c-.78.78-.78 2.05 0 2.83L4 21.41c.39.39.9.59 1.41.59.51 0 1.02-.2 1.41-.59l7.78-7.78 2.81-2.81c.8-.78.8-2.07 0-2.86zM5.41 20L4 18.59l7.72-7.72 1.47 1.35L5.41 20z\"/>\n",
              "  </svg>\n",
              "      </button>\n",
              "      \n",
              "  <style>\n",
              "    .colab-df-container {\n",
              "      display:flex;\n",
              "      flex-wrap:wrap;\n",
              "      gap: 12px;\n",
              "    }\n",
              "\n",
              "    .colab-df-convert {\n",
              "      background-color: #E8F0FE;\n",
              "      border: none;\n",
              "      border-radius: 50%;\n",
              "      cursor: pointer;\n",
              "      display: none;\n",
              "      fill: #1967D2;\n",
              "      height: 32px;\n",
              "      padding: 0 0 0 0;\n",
              "      width: 32px;\n",
              "    }\n",
              "\n",
              "    .colab-df-convert:hover {\n",
              "      background-color: #E2EBFA;\n",
              "      box-shadow: 0px 1px 2px rgba(60, 64, 67, 0.3), 0px 1px 3px 1px rgba(60, 64, 67, 0.15);\n",
              "      fill: #174EA6;\n",
              "    }\n",
              "\n",
              "    [theme=dark] .colab-df-convert {\n",
              "      background-color: #3B4455;\n",
              "      fill: #D2E3FC;\n",
              "    }\n",
              "\n",
              "    [theme=dark] .colab-df-convert:hover {\n",
              "      background-color: #434B5C;\n",
              "      box-shadow: 0px 1px 3px 1px rgba(0, 0, 0, 0.15);\n",
              "      filter: drop-shadow(0px 1px 2px rgba(0, 0, 0, 0.3));\n",
              "      fill: #FFFFFF;\n",
              "    }\n",
              "  </style>\n",
              "\n",
              "      <script>\n",
              "        const buttonEl =\n",
              "          document.querySelector('#df-0ce50275-f5e9-4cfb-9570-65e069e0d2ed button.colab-df-convert');\n",
              "        buttonEl.style.display =\n",
              "          google.colab.kernel.accessAllowed ? 'block' : 'none';\n",
              "\n",
              "        async function convertToInteractive(key) {\n",
              "          const element = document.querySelector('#df-0ce50275-f5e9-4cfb-9570-65e069e0d2ed');\n",
              "          const dataTable =\n",
              "            await google.colab.kernel.invokeFunction('convertToInteractive',\n",
              "                                                     [key], {});\n",
              "          if (!dataTable) return;\n",
              "\n",
              "          const docLinkHtml = 'Like what you see? Visit the ' +\n",
              "            '<a target=\"_blank\" href=https://colab.research.google.com/notebooks/data_table.ipynb>data table notebook</a>'\n",
              "            + ' to learn more about interactive tables.';\n",
              "          element.innerHTML = '';\n",
              "          dataTable['output_type'] = 'display_data';\n",
              "          await google.colab.output.renderOutput(dataTable, element);\n",
              "          const docLink = document.createElement('div');\n",
              "          docLink.innerHTML = docLinkHtml;\n",
              "          element.appendChild(docLink);\n",
              "        }\n",
              "      </script>\n",
              "    </div>\n",
              "  </div>\n",
              "  "
            ]
          },
          "metadata": {},
          "execution_count": 29
        }
      ]
    },
    {
      "cell_type": "markdown",
      "source": [
        "**Remove HTML Tags and emojis if required**"
      ],
      "metadata": {
        "id": "DTq75wWXewLh"
      }
    },
    {
      "cell_type": "code",
      "source": [
        "from html.parser import HTMLParser"
      ],
      "metadata": {
        "id": "udWsVpSje3h2"
      },
      "execution_count": 34,
      "outputs": []
    },
    {
      "cell_type": "code",
      "source": [
        "import html\n",
        "html.unescape"
      ],
      "metadata": {
        "colab": {
          "base_uri": "https://localhost:8080/"
        },
        "id": "Q-aQM50ie3wL",
        "outputId": "c1af18b2-54ed-4da8-ad20-dc5a139c5dc5"
      },
      "execution_count": 38,
      "outputs": [
        {
          "output_type": "execute_result",
          "data": {
            "text/plain": [
              "<function html.unescape(s)>"
            ]
          },
          "metadata": {},
          "execution_count": 38
        }
      ]
    },
    {
      "cell_type": "code",
      "source": [
        "tweet=\"I enjoyd the event which took place yesteday & I lovdddd itttt! It's awesome you'll luv it #HadFun #Enjoyed\" \n"
      ],
      "metadata": {
        "id": "-KohcI_qe32s"
      },
      "execution_count": 42,
      "outputs": []
    },
    {
      "cell_type": "code",
      "source": [
        "tweet = re.sub(r'#', '', tweet)"
      ],
      "metadata": {
        "id": "CVXfPCfze35c"
      },
      "execution_count": 40,
      "outputs": []
    },
    {
      "cell_type": "code",
      "source": [
        "print(\"After removing Hashtags the tweet is:-\\n{}\".format(tweet))"
      ],
      "metadata": {
        "colab": {
          "base_uri": "https://localhost:8080/"
        },
        "id": "mkm_crxoe377",
        "outputId": "407f5f38-91f5-42d3-db26-333d3063de54"
      },
      "execution_count": 43,
      "outputs": [
        {
          "output_type": "stream",
          "name": "stdout",
          "text": [
            "After removing Hashtags the tweet is:-\n",
            "I enjoyd the event which took place yesteday & I lovdddd itttt! It's awesome you'll luv it #HadFun #Enjoyed\n"
          ]
        }
      ]
    },
    {
      "cell_type": "markdown",
      "source": [
        "**Stemming Words**"
      ],
      "metadata": {
        "id": "k3HlnCcegcnb"
      }
    },
    {
      "cell_type": "code",
      "source": [
        "from nltk.stem import PorterStemmer\n",
        "from nltk.tokenize import word_tokenize\n",
        "ps = PorterStemmer() \n",
        "words = ['run','ran','running']\n",
        "for x in words:\n",
        "    print(x, \" : \", ps.stem(x))"
      ],
      "metadata": {
        "colab": {
          "base_uri": "https://localhost:8080/"
        },
        "id": "vaoFdSPce393",
        "outputId": "d0e56de2-b798-4452-f671-17ad1c5391c3"
      },
      "execution_count": 46,
      "outputs": [
        {
          "output_type": "stream",
          "name": "stdout",
          "text": [
            "run  :  run\n",
            "ran  :  ran\n",
            "running  :  run\n"
          ]
        }
      ]
    },
    {
      "cell_type": "code",
      "source": [
        "ps.stem('runs')"
      ],
      "metadata": {
        "colab": {
          "base_uri": "https://localhost:8080/",
          "height": 35
        },
        "id": "HrKxhKUPe4BX",
        "outputId": "421523d1-c71a-4db2-f01e-18860ca6a40f"
      },
      "execution_count": 47,
      "outputs": [
        {
          "output_type": "execute_result",
          "data": {
            "text/plain": [
              "'run'"
            ],
            "application/vnd.google.colaboratory.intrinsic+json": {
              "type": "string"
            }
          },
          "metadata": {},
          "execution_count": 47
        }
      ]
    },
    {
      "cell_type": "markdown",
      "source": [
        "**Stemming a Sentence**"
      ],
      "metadata": {
        "id": "OXb3E3OfhPSj"
      }
    },
    {
      "cell_type": "code",
      "source": [
        "import nltk\n",
        "nltk.download('punkt')"
      ],
      "metadata": {
        "colab": {
          "base_uri": "https://localhost:8080/"
        },
        "id": "moTQ8c7UhXLw",
        "outputId": "cdb9fb35-e8cc-45f9-ff7f-cf91f6cdbe53"
      },
      "execution_count": 48,
      "outputs": [
        {
          "output_type": "stream",
          "name": "stderr",
          "text": [
            "[nltk_data] Downloading package punkt to /root/nltk_data...\n",
            "[nltk_data]   Unzipping tokenizers/punkt.zip.\n"
          ]
        },
        {
          "output_type": "execute_result",
          "data": {
            "text/plain": [
              "True"
            ]
          },
          "metadata": {},
          "execution_count": 48
        }
      ]
    },
    {
      "cell_type": "code",
      "source": [
        "from nltk.stem import PorterStemmer\n",
        "from nltk.tokenize import word_tokenize\n",
        "ps = PorterStemmer()\n",
        "sentence = \"The root word is also called the stem and hence the name stemming\" \n",
        "words = word_tokenize(sentence) \n",
        "for x in words:\n",
        "    print(x, \" : \", ps.stem(x))"
      ],
      "metadata": {
        "colab": {
          "base_uri": "https://localhost:8080/"
        },
        "id": "tgjXo-I-hXIf",
        "outputId": "85f87042-7444-43f2-e433-c3f032ca8b91"
      },
      "execution_count": 49,
      "outputs": [
        {
          "output_type": "stream",
          "name": "stdout",
          "text": [
            "The  :  the\n",
            "root  :  root\n",
            "word  :  word\n",
            "is  :  is\n",
            "also  :  also\n",
            "called  :  call\n",
            "the  :  the\n",
            "stem  :  stem\n",
            "and  :  and\n",
            "hence  :  henc\n",
            "the  :  the\n",
            "name  :  name\n",
            "stemming  :  stem\n"
          ]
        }
      ]
    },
    {
      "cell_type": "code",
      "source": [
        "from nltk.stem.porter import PorterStemmer\n",
        "porter = PorterStemmer()\n",
        "def stemmer(text):\n",
        "\treturn [porter.stem(word) for word in text.split()]\n",
        "PorterStemmer().stem('complications')"
      ],
      "metadata": {
        "colab": {
          "base_uri": "https://localhost:8080/",
          "height": 35
        },
        "id": "EMIq-8mGhXGG",
        "outputId": "fccf0b42-bf51-4fcf-9ff1-0d5e2605dace"
      },
      "execution_count": 51,
      "outputs": [
        {
          "output_type": "execute_result",
          "data": {
            "text/plain": [
              "'complic'"
            ],
            "application/vnd.google.colaboratory.intrinsic+json": {
              "type": "string"
            }
          },
          "metadata": {},
          "execution_count": 51
        }
      ]
    },
    {
      "cell_type": "markdown",
      "source": [
        "**Vectorizing with Tfidf**"
      ],
      "metadata": {
        "id": "qj_4DmNjidUs"
      }
    },
    {
      "cell_type": "code",
      "source": [
        "from sklearn.feature_extraction.text import TfidfVectorizer\n",
        "# list of text documents\n",
        "text = [\"The cycle is ridden on the track.\",\n",
        "\t\"The bus is driven on the road.\",\n",
        "\t\"He is driving the bus.\"]"
      ],
      "metadata": {
        "id": "4AWev9bphXDj"
      },
      "execution_count": 8,
      "outputs": []
    },
    {
      "cell_type": "code",
      "source": [
        "vectorizer = TfidfVectorizer()\n",
        "vectorizer.fit(text)\n",
        "print(vectorizer.vocabulary_)\n",
        "print(vectorizer.idf_)"
      ],
      "metadata": {
        "colab": {
          "base_uri": "https://localhost:8080/"
        },
        "id": "DOrlcb7VigxB",
        "outputId": "74e59ca9-99eb-4c7e-c371-361e3ab9dd85"
      },
      "execution_count": 9,
      "outputs": [
        {
          "output_type": "stream",
          "name": "stdout",
          "text": [
            "{'the': 9, 'cycle': 1, 'is': 5, 'ridden': 7, 'on': 6, 'track': 10, 'bus': 0, 'driven': 2, 'road': 8, 'he': 4, 'driving': 3}\n",
            "[1.28768207 1.69314718 1.69314718 1.69314718 1.69314718 1.\n",
            " 1.28768207 1.69314718 1.69314718 1.         1.69314718]\n"
          ]
        }
      ]
    },
    {
      "cell_type": "code",
      "source": [
        "from sklearn.feature_extraction.text import TfidfVectorizer\n",
        "corpus = [\n",
        "    'Here is the first letter.',\n",
        "    'This document is the second letter.',\n",
        "    'And this is the third one.',\n",
        "    'Is this any other letter?']\n",
        "\n",
        "vectorizer = TfidfVectorizer()\n",
        "x = vectorizer.fit_transform(corpus)\n",
        "print(vectorizer.get_feature_names_out())\n",
        "print(x.shape)"
      ],
      "metadata": {
        "colab": {
          "base_uri": "https://localhost:8080/"
        },
        "id": "8L6RnF3uihXd",
        "outputId": "4edf6f64-3089-4b39-e2df-af890a81b901"
      },
      "execution_count": 13,
      "outputs": [
        {
          "output_type": "stream",
          "name": "stdout",
          "text": [
            "['and' 'any' 'document' 'first' 'here' 'is' 'letter' 'one' 'other'\n",
            " 'second' 'the' 'third' 'this']\n",
            "(4, 13)\n"
          ]
        }
      ]
    },
    {
      "cell_type": "code",
      "source": [],
      "metadata": {
        "id": "WebIf1Z3ihT2"
      },
      "execution_count": null,
      "outputs": []
    },
    {
      "cell_type": "code",
      "source": [],
      "metadata": {
        "id": "J5n_sSPm4dBG"
      },
      "execution_count": null,
      "outputs": []
    }
  ]
}