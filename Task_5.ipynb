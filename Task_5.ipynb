{
  "nbformat": 4,
  "nbformat_minor": 0,
  "metadata": {
    "colab": {
      "provenance": []
    },
    "kernelspec": {
      "name": "python3",
      "display_name": "Python 3"
    },
    "language_info": {
      "name": "python"
    }
  },
  "cells": [
    {
      "cell_type": "markdown",
      "source": [
        "**TASK-5**"
      ],
      "metadata": {
        "id": "ZEbW-BfmWIb6"
      }
    },
    {
      "cell_type": "code",
      "execution_count": 2,
      "metadata": {
        "id": "4IZ_3xdePtMM"
      },
      "outputs": [],
      "source": [
        "from sklearn.feature_extraction.text import CountVectorizer\n",
        "vect = CountVectorizer(binary=True)"
      ]
    },
    {
      "cell_type": "code",
      "source": [
        "corpus = [\"NLP is awesome\", \"I want to start an NLP Company\", \"Top unicorns use NLP\"]\n"
      ],
      "metadata": {
        "id": "P67te0XOQSU5"
      },
      "execution_count": 4,
      "outputs": []
    },
    {
      "cell_type": "code",
      "source": [
        "vect.fit(corpus)"
      ],
      "metadata": {
        "colab": {
          "base_uri": "https://localhost:8080/"
        },
        "id": "Sz1TVSfmQSRj",
        "outputId": "93352008-58aa-4ea2-db95-514a0266585a"
      },
      "execution_count": 6,
      "outputs": [
        {
          "output_type": "execute_result",
          "data": {
            "text/plain": [
              "CountVectorizer(binary=True)"
            ]
          },
          "metadata": {},
          "execution_count": 6
        }
      ]
    },
    {
      "cell_type": "code",
      "source": [
        "vocab = vect.vocabulary_"
      ],
      "metadata": {
        "id": "3GJ9ILeLQSP4"
      },
      "execution_count": 7,
      "outputs": []
    },
    {
      "cell_type": "code",
      "source": [
        "for key in sorted(vocab.keys()):\n",
        "  print(\"{}:{}\".format(key,vocab[key]))"
      ],
      "metadata": {
        "colab": {
          "base_uri": "https://localhost:8080/"
        },
        "id": "ZwG-3YthQSNO",
        "outputId": "4f3960c2-8ccd-49ee-ebff-805c98d7cb5d"
      },
      "execution_count": 8,
      "outputs": [
        {
          "output_type": "stream",
          "name": "stdout",
          "text": [
            "an:0\n",
            "awesome:1\n",
            "company:2\n",
            "is:3\n",
            "nlp:4\n",
            "start:5\n",
            "to:6\n",
            "top:7\n",
            "unicorns:8\n",
            "use:9\n",
            "want:10\n"
          ]
        }
      ]
    },
    {
      "cell_type": "code",
      "source": [
        "vect.transform([\"I have an awesome NLP Company worth an awesome billion\"]).toarray()"
      ],
      "metadata": {
        "colab": {
          "base_uri": "https://localhost:8080/"
        },
        "id": "F3Bz_5xQQSGW",
        "outputId": "ed407a9d-a494-42fc-eb7f-30bfda0eeda0"
      },
      "execution_count": 10,
      "outputs": [
        {
          "output_type": "execute_result",
          "data": {
            "text/plain": [
              "array([[1, 1, 1, 0, 1, 0, 0, 0, 0, 0, 0]])"
            ]
          },
          "metadata": {},
          "execution_count": 10
        }
      ]
    },
    {
      "cell_type": "code",
      "source": [
        "from sklearn.metrics.pairwise import cosine_similarity\n",
        "similarity = cosine_similarity((vect.transform([\"NLP is an elective\"]).toarray()),vect.transform([\"NLP is an attractive career now\"]).toarray())"
      ],
      "metadata": {
        "id": "mydm0jsiR2Vc"
      },
      "execution_count": 19,
      "outputs": []
    },
    {
      "cell_type": "code",
      "source": [
        "print(similarity)"
      ],
      "metadata": {
        "colab": {
          "base_uri": "https://localhost:8080/"
        },
        "id": "zOyP4TlNR2If",
        "outputId": "c9af7e35-cbf7-4389-9b40-f0f546ad4539"
      },
      "execution_count": 20,
      "outputs": [
        {
          "output_type": "stream",
          "name": "stdout",
          "text": [
            "[[1.]]\n"
          ]
        }
      ]
    },
    {
      "cell_type": "code",
      "source": [
        "from sklearn.metrics.pairwise import cosine_similarity\n",
        "sim = cosine_similarity(vect.transform([\"NLP is an elective\"]).toarray()),vect.transform([\"NLP is an attractive career now\"]).toarray()"
      ],
      "metadata": {
        "id": "GLXOPWdIVWqJ"
      },
      "execution_count": 21,
      "outputs": []
    },
    {
      "cell_type": "code",
      "source": [
        "print(sim)"
      ],
      "metadata": {
        "colab": {
          "base_uri": "https://localhost:8080/"
        },
        "id": "Ub3d2O3cVWe6",
        "outputId": "af5f0da7-6bb6-4f63-f275-2b7c08a506ee"
      },
      "execution_count": 22,
      "outputs": [
        {
          "output_type": "stream",
          "name": "stdout",
          "text": [
            "(array([[1.]]), array([[1, 0, 0, 1, 1, 0, 0, 0, 0, 0, 0]]))\n"
          ]
        }
      ]
    },
    {
      "cell_type": "code",
      "source": [
        "vect.transform([\"I have an awesome NLP Company\"]).toarray()"
      ],
      "metadata": {
        "colab": {
          "base_uri": "https://localhost:8080/"
        },
        "id": "nulhFuDKR2FA",
        "outputId": "a0b1e8f3-3d43-489e-ed3a-683d3ca68aa5"
      },
      "execution_count": 17,
      "outputs": [
        {
          "output_type": "execute_result",
          "data": {
            "text/plain": [
              "array([[1, 1, 1, 0, 1, 0, 0, 0, 0, 0, 0]])"
            ]
          },
          "metadata": {},
          "execution_count": 17
        }
      ]
    },
    {
      "cell_type": "code",
      "source": [
        "vect.transform([\"ML is an elective subject\"]).toarray()"
      ],
      "metadata": {
        "colab": {
          "base_uri": "https://localhost:8080/"
        },
        "id": "Uw9ggcHjR2CW",
        "outputId": "41b1c88d-1e74-4445-8f34-54a098d4baec"
      },
      "execution_count": 18,
      "outputs": [
        {
          "output_type": "execute_result",
          "data": {
            "text/plain": [
              "array([[1, 0, 0, 1, 0, 0, 0, 0, 0, 0, 0]])"
            ]
          },
          "metadata": {},
          "execution_count": 18
        }
      ]
    },
    {
      "cell_type": "code",
      "source": [
        "vect.transform([\"Airbnb uses NLP Techniques\"]).toarray()"
      ],
      "metadata": {
        "colab": {
          "base_uri": "https://localhost:8080/"
        },
        "id": "-rIJH7vHVAxJ",
        "outputId": "b42eedde-915b-4f51-ca60-9313e7b9de90"
      },
      "execution_count": 23,
      "outputs": [
        {
          "output_type": "execute_result",
          "data": {
            "text/plain": [
              "array([[0, 0, 0, 0, 1, 0, 0, 0, 0, 0, 0]])"
            ]
          },
          "metadata": {},
          "execution_count": 23
        }
      ]
    },
    {
      "cell_type": "code",
      "source": [],
      "metadata": {
        "id": "whYUTvQbVAt0"
      },
      "execution_count": null,
      "outputs": []
    }
  ]
}