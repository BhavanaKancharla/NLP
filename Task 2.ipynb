{
 "cells": [
  {
   "cell_type": "code",
   "execution_count": 1,
   "id": "14201c4d",
   "metadata": {},
   "outputs": [],
   "source": [
    "import nltk"
   ]
  },
  {
   "cell_type": "code",
   "execution_count": 2,
   "id": "e3726fd9",
   "metadata": {},
   "outputs": [
    {
     "data": {
      "text/plain": [
       "FreqDist({'The': 1, 'basis': 1, 'for': 1, 'the': 1, 'work': 1, 'is': 1, 'Melvilles': 1, '1841': 1, 'whaling': 1, 'voyage': 1})"
      ]
     },
     "execution_count": 2,
     "metadata": {},
     "output_type": "execute_result"
    }
   ],
   "source": [
    "text1='The basis for the work is Melvilles 1841 whaling voyage'\n",
    "fd=nltk.FreqDist(text1.split())\n",
    "fd"
   ]
  },
  {
   "cell_type": "code",
   "execution_count": 3,
   "id": "b9ce7f6b",
   "metadata": {
    "scrolled": true
   },
   "outputs": [
    {
     "data": {
      "text/plain": [
       "FreqDist({'work': 1, '1841': 1})"
      ]
     },
     "execution_count": 3,
     "metadata": {},
     "output_type": "execute_result"
    }
   ],
   "source": [
    "from nltk.probability import ConditionalFreqDist\n",
    "cfd=ConditionalFreqDist((len(word),word) for word in text1.split())\n",
    "cfd[4]"
   ]
  },
  {
   "cell_type": "code",
   "execution_count": 4,
   "id": "9c52b1c3",
   "metadata": {},
   "outputs": [
    {
     "name": "stdout",
     "output_type": "stream",
     "text": [
      "Collecting package metadata (current_repodata.json): ...working... done\n",
      "Note: you may need to restart the kernel to use updated packages.\n"
     ]
    },
    {
     "name": "stderr",
     "output_type": "stream",
     "text": [
      "\n",
      "\n",
      "==> WARNING: A newer version of conda exists. <==\n",
      "  current version: 22.9.0\n",
      "  latest version: 22.11.1\n",
      "\n",
      "Please update conda by running\n",
      "\n",
      "    $ conda update -n base -c defaults conda\n",
      "\n",
      "\n",
      "WARNING conda.gateways.disk.delete:unlink_or_rename_to_trash(143): Could not remove or rename E:\\Anaconda\\Scripts\\conda-script.py.  Please remove this file manually (you may need to reboot to free file handles)\n"
     ]
    },
    {
     "name": "stdout",
     "output_type": "stream",
     "text": [
      "\n",
      "Solving environment: ...working... done\n",
      "\n",
      "## Package Plan ##\n",
      "\n",
      "  environment location: E:\\Anaconda\n",
      "\n",
      "  added / updated specs:\n",
      "    - jieba\n",
      "\n",
      "\n",
      "The following NEW packages will be INSTALLED:\n",
      "\n",
      "  jieba              conda-forge/noarch::jieba-0.42.1-pyhd8ed1ab_0 None\n",
      "  python_abi         conda-forge/win-64::python_abi-3.9-2_cp39 None\n",
      "  ruamel.yaml        conda-forge/win-64::ruamel.yaml-0.17.21-py39hb82d6ee_1 None\n",
      "  ruamel.yaml.clib   pkgs/main/win-64::ruamel.yaml.clib-0.2.6-py39h2bbff1b_1 None\n",
      "\n",
      "The following packages will be UPDATED:\n",
      "\n",
      "  conda              pkgs/main::conda-22.9.0-py39haa95532_0 --> conda-forge::conda-22.11.1-py39hcbf5309_1 None\n",
      "\n",
      "\n",
      "Preparing transaction: ...working... done\n",
      "Verifying transaction: ...working... done\n",
      "Executing transaction: ...working... done\n",
      "Retrieving notices: ...working... done\n"
     ]
    }
   ],
   "source": [
    "conda install -c conda-forge jieba"
   ]
  },
  {
   "cell_type": "code",
   "execution_count": 5,
   "id": "5fff880a",
   "metadata": {},
   "outputs": [],
   "source": [
    "import jieba"
   ]
  },
  {
   "cell_type": "code",
   "execution_count": 14,
   "id": "50acf6e5",
   "metadata": {
    "scrolled": true
   },
   "outputs": [
    {
     "name": "stderr",
     "output_type": "stream",
     "text": [
      "Building prefix dict from the default dictionary ...\n",
      "Dumping model to file cache C:\\Users\\ksbha\\AppData\\Local\\Temp\\jieba.cache\n",
      "Loading model cost 2.311 seconds.\n",
      "Prefix dict has been built successfully.\n"
     ]
    },
    {
     "name": "stdout",
     "output_type": "stream",
     "text": [
      "开 儿     艾 诶 开 伊     艾 娜     比吉 诶 吉 诶 艾 诶 .     哦 吉 艾 娜     艾 娜     艾 杰 艾     哦 诶 娜 艾\n"
     ]
    }
   ],
   "source": [
    "import jieba\n",
    "seg = jieba.cut(\"开儿 艾诶开伊 艾娜 比吉诶吉诶艾诶. 哦吉艾娜 艾娜 艾杰艾 哦诶娜艾\",cut_all=True)\n",
    "print(\" \".join(seg))"
   ]
  },
  {
   "cell_type": "code",
   "execution_count": 6,
   "id": "c4451bea",
   "metadata": {},
   "outputs": [
    {
     "name": "stdout",
     "output_type": "stream",
     "text": [
      "['Become', 'an', 'expert', 'in', 'NLP']\n"
     ]
    }
   ],
   "source": [
    "import nltk\n",
    "sent=\"Become an expert in NLP\"\n",
    "words=nltk.word_tokenize(sent)\n",
    "print(words)"
   ]
  },
  {
   "cell_type": "code",
   "execution_count": 7,
   "id": "8ca96fc9",
   "metadata": {},
   "outputs": [
    {
     "data": {
      "text/plain": [
       "['Hello everyone.', 'Welcome to NLP class']"
      ]
     },
     "execution_count": 7,
     "metadata": {},
     "output_type": "execute_result"
    }
   ],
   "source": [
    "from nltk.tokenize import sent_tokenize\n",
    " \n",
    "text = \"Hello everyone. Welcome to NLP class\"\n",
    "sent_tokenize(text)"
   ]
  },
  {
   "cell_type": "code",
   "execution_count": 9,
   "id": "dedde42e",
   "metadata": {},
   "outputs": [
    {
     "name": "stdout",
     "output_type": "stream",
     "text": [
      "['Gandhi was one of the most important people involved in the  movement for the independence of India.', 'He was a non-violent activist,who led the independence movement through a non-violent protest.', 'Gandhi was born on October 2, 1869, in Porbandar, Gujarat, India.', 'Several members of his family worked for the government of the state.']\n",
      "['Gandhi', 'was', 'one', 'of', 'the', 'most', 'important', 'people', 'involved', 'in', 'the', 'movement', 'for', 'the', 'independence', 'of', 'India', '.', 'He', 'was', 'a', 'non-violent', 'activist', ',', 'who', 'led', 'the', 'independence', 'movement', 'through', 'a', 'non-violent', 'protest', '.', 'Gandhi', 'was', 'born', 'on', 'October', '2', ',', '1869', ',', 'in', 'Porbandar', ',', 'Gujarat', ',', 'India', '.', 'Several', 'members', 'of', 'his', 'family', 'worked', 'for', 'the', 'government', 'of', 'the', 'state', '.']\n"
     ]
    }
   ],
   "source": [
    "from nltk.tokenize import sent_tokenize, word_tokenize\n",
    "  \n",
    "text = \"Gandhi was one of the most important people involved in the \" + \\\n",
    "       \" movement for the independence of India. He was a non-violent activist,\" + \\\n",
    "       \"who led the independence movement through a non-violent protest. \" + \\\n",
    "       \"Gandhi was born on October 2, 1869, in Porbandar, Gujarat, India. \" + \\\n",
    "       \"Several members of his family worked for the government of the state.\" \n",
    "       \n",
    "print(sent_tokenize(text))\n",
    "print(word_tokenize(text))"
   ]
  },
  {
   "cell_type": "code",
   "execution_count": 18,
   "id": "b19b11a8",
   "metadata": {},
   "outputs": [
    {
     "name": "stdout",
     "output_type": "stream",
     "text": [
      "['Gandhi', 'was', 'one', 'of', 'the', 'most', 'important', 'people', 'involved', 'in', 'the', 'movement', 'for', 'the', 'independence', 'of', 'India', '.']\n",
      "[('Gandhi', 'NNP'), ('was', 'VBD'), ('one', 'CD'), ('of', 'IN'), ('the', 'DT'), ('most', 'RBS'), ('important', 'JJ'), ('people', 'NNS'), ('involved', 'VBN'), ('in', 'IN'), ('the', 'DT'), ('movement', 'NN'), ('for', 'IN'), ('the', 'DT'), ('independence', 'NN'), ('of', 'IN'), ('India', 'NNP'), ('.', '.')]\n",
      "['He', 'was', 'a', 'non-violent', 'activist', ',', 'who', 'led', 'the', 'independence', 'movement', 'through', 'a', 'non-violent', 'protest', '.']\n",
      "[('He', 'PRP'), ('was', 'VBD'), ('a', 'DT'), ('non-violent', 'JJ'), ('activist', 'NN'), (',', ','), ('who', 'WP'), ('led', 'VBD'), ('the', 'DT'), ('independence', 'NN'), ('movement', 'NN'), ('through', 'IN'), ('a', 'DT'), ('non-violent', 'JJ'), ('protest', 'NN'), ('.', '.')]\n"
     ]
    }
   ],
   "source": [
    "texts=[\"\"\"Gandhi was one of the most important people involved in the movement for the \n",
    "independence of India. He was a non-violent activist, who led the independence movement\n",
    "through a non-violent protest.\"\"\"]\n",
    "for text in texts:\n",
    "    sentences=nltk.sent_tokenize(text)\n",
    "    for sentence in sentences:\n",
    "        words=nltk.word_tokenize(sentence)\n",
    "        print(words)\n",
    "        tagged=nltk.pos_tag(words)\n",
    "        print(tagged)"
   ]
  },
  {
   "cell_type": "code",
   "execution_count": null,
   "id": "dd50d078",
   "metadata": {},
   "outputs": [],
   "source": []
  }
 ],
 "metadata": {
  "kernelspec": {
   "display_name": "Python 3 (ipykernel)",
   "language": "python",
   "name": "python3"
  },
  "language_info": {
   "codemirror_mode": {
    "name": "ipython",
    "version": 3
   },
   "file_extension": ".py",
   "mimetype": "text/x-python",
   "name": "python",
   "nbconvert_exporter": "python",
   "pygments_lexer": "ipython3",
   "version": "3.9.13"
  }
 },
 "nbformat": 4,
 "nbformat_minor": 5
}
